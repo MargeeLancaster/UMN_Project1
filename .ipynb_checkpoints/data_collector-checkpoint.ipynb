{
 "cells": [
  {
   "cell_type": "code",
   "execution_count": 1,
   "metadata": {},
   "outputs": [],
   "source": [
    "import dotenv\n",
    "import quandl\n",
    "import csv\n",
    "import os\n",
    "import pandas as pd\n",
    "from pathlib import Path\n",
    "from dotenv import load_dotenv\n",
    "\n",
    "\n",
    "# Set the Environment variable\n",
    "load_dotenv()\n",
    "\n",
    "# Set the API Key\n",
    "api_key = os.getenv(\"QUANDL_API_KEY\")\n",
    "\n",
    "# Configure Quandl to use the the API key\n",
    "quandl.ApiConfig.api_key = api_key\n",
    "\n",
    "output_path = Path('./data')"
   ]
  },
  {
   "cell_type": "code",
   "execution_count": null,
   "metadata": {},
   "outputs": [],
   "source": [
    "# Define the Region ID by Metro Area\n",
    "dict_metro_market = {\n",
    "    'Chicago': 394463,\n",
    "    'Des Moines': 394531,\n",
    "    'Denver': 394530,\n",
    "    'Kansas City': 394735,\n",
    "    'Madison': 394816,\n",
    "    'Minneapolis': 394865,\n",
    "    'Oklahoma City': 394935,\n",
    "    'Toledo': 395160  \n",
    "}\n",
    "\n",
    "# Define the Indicator IDs.\n",
    "dict_indicator_id= {\n",
    "    'For_Sale_Inventory' : 'IRAM',\n",
    "    'Median_Sale_Price' : 'SRAM', \n",
    "    'Median_List_Price' : 'LRAM'\n",
    "}"
   ]
  },
  {
   "cell_type": "code",
   "execution_count": null,
   "metadata": {},
   "outputs": [],
   "source": [
    "# Create Function for calling data with API to make file creation easier\n",
    "def zillow_api_call(provider, indicator, region):\n",
    "    requested_table = quandl.get_table(provider, indicator_id=indicator, region_id=region)\n",
    "    return(requested_table)"
   ]
  },
  {
   "cell_type": "code",
   "execution_count": null,
   "metadata": {},
   "outputs": [],
   "source": [
    "# Loop through each state and pull api data for the three metrics\n",
    "# or \"indicators\". Clean up data and save to a new file.\n",
    "for state in dict_metro_market:\n",
    "    for indicator in dict_indicator_id:\n",
    "        file_name = f\"{state}_{indicator}.csv\"\n",
    "        zillow_table = zillow_api_call('ZILLOW/DATA', dict_indicator_id[indicator], dict_metro_market[state])\n",
    "        zillow_table[\"region_id\"] = zillow_table[\"region_id\"].str.replace(str(dict_metro_market[state]), state)\n",
    "        zillow_table = zillow_table.drop(columns=[\"indicator_id\"])\n",
    "        zillow_table = zillow_table.rename(columns={\n",
    "            \"region_id\": \"metro_area\",\n",
    "        })\n",
    "        zillow_table.to_csv(f\"{output_path}/{file_name}\")\n"
   ]
  }
 ],
 "metadata": {
  "interpreter": {
   "hash": "40d3a090f54c6569ab1632332b64b2c03c39dcf918b08424e98f38b5ae0af88f"
  },
  "kernelspec": {
   "display_name": "Python 3.8.8 64-bit ('base': conda)",
   "name": "python3"
  },
  "language_info": {
   "codemirror_mode": {
    "name": "ipython",
    "version": 3
   },
   "file_extension": ".py",
   "mimetype": "text/x-python",
   "name": "python",
   "nbconvert_exporter": "python",
   "pygments_lexer": "ipython3",
   "version": "3.8.8"
  },
  "orig_nbformat": 4
 },
 "nbformat": 4,
 "nbformat_minor": 2
}
