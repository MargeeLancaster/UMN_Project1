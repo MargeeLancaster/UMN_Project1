{
 "cells": [
  {
   "cell_type": "code",
   "execution_count": 112,
   "metadata": {},
   "outputs": [],
   "source": [
    "import pandas as pd\n",
    "import csv\n",
    "import bokeh\n",
    "from pathlib import Path\n",
    "import hvplot.pandas\n",
    "import os\n",
    "import glob\n",
    "import matplotlib.pyplot as plt\n"
   ]
  },
  {
   "cell_type": "markdown",
   "metadata": {},
   "source": [
    "## Create and Clean the new Data frames"
   ]
  },
  {
   "cell_type": "code",
   "execution_count": 175,
   "metadata": {},
   "outputs": [
    {
     "name": "stderr",
     "output_type": "stream",
     "text": [
      "/var/folders/y4/x5w7cmpd0wvg6v1klh51sxvc0000gn/T/ipykernel_9920/1300110981.py:38: FutureWarning: Value based partial slicing on non-monotonic DatetimeIndexes with non-existing keys is deprecated and will raise a KeyError in a future Version.\n",
      "  df_sale_price = df_sale_price['2018':'2021']\n",
      "/var/folders/y4/x5w7cmpd0wvg6v1klh51sxvc0000gn/T/ipykernel_9920/1300110981.py:39: FutureWarning: Value based partial slicing on non-monotonic DatetimeIndexes with non-existing keys is deprecated and will raise a KeyError in a future Version.\n",
      "  df_list_price = df_list_price['2018':'2021']\n"
     ]
    }
   ],
   "source": [
    "# Set the path for the csv files\n",
    "data_path = r'./data/'\n",
    "sale_price_filenames = glob.glob(data_path + \"/*_Sale_Price.csv\")\n",
    "list_price_filenames = glob.glob(data_path + \"/*_List_Price.csv\")\n",
    "\n",
    "# Create two lists to be iterated through  to create the dataframe\n",
    "sale_price_list = []\n",
    "list_price_list = []\n",
    "\n",
    "# Loop through each file name and append it to the corresponding list\n",
    "for filename in sale_price_filenames:\n",
    "    sale_price_list.append(pd.read_csv(filename, index_col=\"date\", parse_dates=True, infer_datetime_format=True))\n",
    "\n",
    "for filename in list_price_filenames:\n",
    "    list_price_list.append(pd.read_csv(filename, index_col='date', parse_dates=True, infer_datetime_format=True))\n",
    "\n",
    "# Create a new Dataframe by concatenating the data from each file in the list \n",
    "df_sale_price = pd.concat(sale_price_list)\n",
    "df_list_price = pd.concat(list_price_list)\n",
    "\n",
    "# Drop the 'None' Column from teh Dataframes and change the Column Names\n",
    "#df_sale_price = df_sale_price.drop(columns=['None'])\n",
    "df_sale_price = df_sale_price.rename(columns={\n",
    "    'date': 'Date',\n",
    "    'value': 'Sale Price',\n",
    "    'metro_area': 'Region'\n",
    "})\n",
    "\n",
    "#df_list_price = df_list_price.drop(columns=['None'])\n",
    "df_list_price = df_list_price.rename(columns={\n",
    "    'date': 'Date',\n",
    "    'value': 'Listing Price',\n",
    "    'metro_area': 'Region'\n",
    "})\n",
    "\n",
    "# Create a new Column for the Year\n",
    "df_sale_price['Year'] = df_sale_price.index.year\n",
    "df_list_price['Year'] = df_list_price.index.year\n",
    "\n",
    "# Set the value of the column Year to 2018 through 2021 when Zillow data was accessible\n",
    "df_sale_price = df_sale_price['2018':'2021']\n",
    "df_list_price = df_list_price['2018':'2021']\n",
    "\n"
   ]
  },
  {
   "cell_type": "markdown",
   "metadata": {},
   "source": [
    "## Create the Data Visualizations"
   ]
  },
  {
   "cell_type": "code",
   "execution_count": 182,
   "metadata": {},
   "outputs": [
    {
     "data": {},
     "metadata": {},
     "output_type": "display_data"
    },
    {
     "data": {
      "application/vnd.holoviews_exec.v0+json": "",
      "text/html": [
       "<div id='20350'>\n",
       "\n",
       "\n",
       "\n",
       "\n",
       "\n",
       "  <div class=\"bk-root\" id=\"79002d06-8730-44e6-bd40-97a3503d66b8\" data-root-id=\"20350\"></div>\n",
       "</div>\n",
       "<script type=\"application/javascript\">(function(root) {\n",
       "  function embed_document(root) {\n",
       "    var docs_json = {\"35980428-7e05-4fbb-b88f-33d303bfc91f\":{\"defs\":[{\"extends\":null,\"module\":null,\"name\":\"ReactiveHTML1\",\"overrides\":[],\"properties\":[]},{\"extends\":null,\"module\":null,\"name\":\"FlexBox1\",\"overrides\":[],\"properties\":[{\"default\":\"flex-start\",\"kind\":null,\"name\":\"align_content\"},{\"default\":\"flex-start\",\"kind\":null,\"name\":\"align_items\"},{\"default\":\"row\",\"kind\":null,\"name\":\"flex_direction\"},{\"default\":\"wrap\",\"kind\":null,\"name\":\"flex_wrap\"},{\"default\":\"flex-start\",\"kind\":null,\"name\":\"justify_content\"}]},{\"extends\":null,\"module\":null,\"name\":\"TemplateActions1\",\"overrides\":[],\"properties\":[{\"default\":0,\"kind\":null,\"name\":\"open_modal\"},{\"default\":0,\"kind\":null,\"name\":\"close_modal\"}]},{\"extends\":null,\"module\":null,\"name\":\"MaterialTemplateActions1\",\"overrides\":[],\"properties\":[{\"default\":0,\"kind\":null,\"name\":\"open_modal\"},{\"default\":0,\"kind\":null,\"name\":\"close_modal\"}]}],\"roots\":{\"references\":[{\"attributes\":{\"overlay\":{\"id\":\"20378\"}},\"id\":\"20376\",\"type\":\"BoxZoomTool\"},{\"attributes\":{\"children\":[{\"id\":\"20678\"}],\"css_classes\":[\"panel-widget-box\"],\"margin\":[5,5,5,5],\"name\":\"WidgetBox50813\"},\"id\":\"20677\",\"type\":\"Column\"},{\"attributes\":{\"margin\":[5,5,5,5],\"name\":\"VSpacer50819\",\"sizing_mode\":\"stretch_height\"},\"id\":\"20679\",\"type\":\"Spacer\"},{\"attributes\":{},\"id\":\"20361\",\"type\":\"LinearScale\"},{\"attributes\":{\"axis_label\":\"Listing Price\",\"formatter\":{\"id\":\"20387\"},\"major_label_policy\":{\"id\":\"20391\"},\"ticker\":{\"id\":\"20370\"}},\"id\":\"20369\",\"type\":\"LinearAxis\"},{\"attributes\":{\"end\":373300.0,\"reset_end\":373300.0,\"reset_start\":201700.0,\"start\":201700.0,\"tags\":[[[\"Listing Price\",\"Listing Price\",null]]]},\"id\":\"20353\",\"type\":\"Range1d\"},{\"attributes\":{\"text\":\"Region: Chicago\",\"text_color\":\"black\",\"text_font_size\":\"12pt\"},\"id\":\"20357\",\"type\":\"Title\"},{\"attributes\":{\"mantissas\":[1,2,5],\"max_interval\":500.0,\"num_minor_ticks\":0},\"id\":\"20410\",\"type\":\"AdaptiveTicker\"},{\"attributes\":{\"num_minor_ticks\":5,\"tickers\":[{\"id\":\"20410\"},{\"id\":\"20411\"},{\"id\":\"20412\"},{\"id\":\"20413\"},{\"id\":\"20414\"},{\"id\":\"20415\"},{\"id\":\"20416\"},{\"id\":\"20417\"},{\"id\":\"20418\"},{\"id\":\"20419\"},{\"id\":\"20420\"},{\"id\":\"20421\"}]},\"id\":\"20366\",\"type\":\"DatetimeTicker\"},{\"attributes\":{\"base\":60,\"mantissas\":[1,2,5,10,15,20,30],\"max_interval\":1800000.0,\"min_interval\":1000.0,\"num_minor_ticks\":0},\"id\":\"20411\",\"type\":\"AdaptiveTicker\"},{\"attributes\":{\"days\":[1,2,3,4,5,6,7,8,9,10,11,12,13,14,15,16,17,18,19,20,21,22,23,24,25,26,27,28,29,30,31]},\"id\":\"20413\",\"type\":\"DaysTicker\"},{\"attributes\":{},\"id\":\"20370\",\"type\":\"BasicTicker\"},{\"attributes\":{\"base\":24,\"mantissas\":[1,2,4,6,8,12],\"max_interval\":43200000.0,\"min_interval\":3600000.0,\"num_minor_ticks\":0},\"id\":\"20412\",\"type\":\"AdaptiveTicker\"},{\"attributes\":{\"bottom_units\":\"screen\",\"fill_alpha\":0.5,\"fill_color\":\"lightgrey\",\"left_units\":\"screen\",\"level\":\"overlay\",\"line_alpha\":1.0,\"line_color\":\"black\",\"line_dash\":[4,4],\"line_width\":2,\"right_units\":\"screen\",\"syncable\":false,\"top_units\":\"screen\"},\"id\":\"20378\",\"type\":\"BoxAnnotation\"},{\"attributes\":{\"months\":[0,1,2,3,4,5,6,7,8,9,10,11]},\"id\":\"20417\",\"type\":\"MonthsTicker\"},{\"attributes\":{\"client_comm_id\":\"fb375bbef3c345eeb09fc6f30a93ae95\",\"comm_id\":\"1e71ba5cb29c47d79b04d17bf30b7a3b\",\"plot_id\":\"20350\"},\"id\":\"20749\",\"type\":\"panel.models.comm_manager.CommManager\"},{\"attributes\":{\"months\":[0,2,4,6,8,10]},\"id\":\"20418\",\"type\":\"MonthsTicker\"},{\"attributes\":{\"margin\":[5,5,5,5],\"name\":\"HSpacer50821\",\"sizing_mode\":\"stretch_width\"},\"id\":\"20351\",\"type\":\"Spacer\"},{\"attributes\":{\"days\":[1,4,7,10,13,16,19,22,25,28]},\"id\":\"20414\",\"type\":\"DaysTicker\"},{\"attributes\":{\"days\":[1,15]},\"id\":\"20416\",\"type\":\"DaysTicker\"},{\"attributes\":{\"months\":[0,6]},\"id\":\"20420\",\"type\":\"MonthsTicker\"},{\"attributes\":{\"days\":[1,8,15,22]},\"id\":\"20415\",\"type\":\"DaysTicker\"},{\"attributes\":{},\"id\":\"20421\",\"type\":\"YearsTicker\"},{\"attributes\":{\"data\":{\"Listing Price\":{\"__ndarray__\":\"AAAAAOA/EkEAAAAAcIYTQQAAAADgsBRBAAAAACBNFUEAAAAAMFsVQQAAAACgDhVBAAAAAHCAFEEAAAAAICEUQQAAAAAg1hNBAAAAAHCGE0EAAAAAwOsSQQAAAADwTRJBAAAAAPBNEkEAAAAAAIgTQQAAAADgsBRBAAAAACBNFUEAAAAA8FQVQQAAAABwFhVBAAAAALC4FEEAAAAAsCIUQQAAAAAg1hNBAAAAAHCGE0EAAAAAEDITQQAAAAAgaRJBAAAAAECtEkEAAAAAkNQTQQAAAABYQxRBAAAAAKAUFEEAAAAAYHIUQQAAAACgDhVBAAAAADBbFUEAAAAAMFsVQQAAAADAXBVBAAAAAJBLFUEAAAAA4LAUQQAAAABAJBRBAAAAACDWE0EAAAAAgMAUQQAAAAAwWxVBAAAAAMBcFUEAAAAAYOkVQQAAAABQqRVBAAAAADBbFUE=\",\"dtype\":\"float64\",\"order\":\"little\",\"shape\":[43]},\"Listing_Price\":{\"__ndarray__\":\"AAAAAOA/EkEAAAAAcIYTQQAAAADgsBRBAAAAACBNFUEAAAAAMFsVQQAAAACgDhVBAAAAAHCAFEEAAAAAICEUQQAAAAAg1hNBAAAAAHCGE0EAAAAAwOsSQQAAAADwTRJBAAAAAPBNEkEAAAAAAIgTQQAAAADgsBRBAAAAACBNFUEAAAAA8FQVQQAAAABwFhVBAAAAALC4FEEAAAAAsCIUQQAAAAAg1hNBAAAAAHCGE0EAAAAAEDITQQAAAAAgaRJBAAAAAECtEkEAAAAAkNQTQQAAAABYQxRBAAAAAKAUFEEAAAAAYHIUQQAAAACgDhVBAAAAADBbFUEAAAAAMFsVQQAAAADAXBVBAAAAAJBLFUEAAAAA4LAUQQAAAABAJBRBAAAAACDWE0EAAAAAgMAUQQAAAAAwWxVBAAAAAMBcFUEAAAAAYOkVQQAAAABQqRVBAAAAADBbFUE=\",\"dtype\":\"float64\",\"order\":\"little\",\"shape\":[43]},\"date\":{\"__ndarray__\":\"AACANZgUdkIAAIBWmx12QgAAwKiVJ3ZCAABAlT0xdkIAAIDnNzt2QgAAANTfRHZCAABAJtpOdkIAAIB41Fh2QgAAAGV8YnZCAABAt3ZsdkIAAMCjHnZ2QgAAAPYYgHZCAABASBOKdkIAAEBpFpN2QgAAgLsQnXZCAAAAqLimdkIAAED6srB2QgAAwOZaunZCAAAAOVXEdkIAAECLT852QgAAwHf313ZCAAAAyvHhdkIAAIC2met2QgAAwAiU9XZCAAAAW47/dkIAAMDh4wh3QgAAADTeEndCAACAIIYcd0IAAMBygCZ3QgAAQF8oMHdCAACAsSI6d0IAAMADHUR3QgAAQPDETXdCAACAQr9Xd0IAAAAvZ2F3QgAAQIFha3dCAACA01t1d0IAAID0Xn53QgAAwEZZiHdCAABAMwGSd0IAAICF+5t3QgAAAHKjpXdCAABAxJ2vd0I=\",\"dtype\":\"float64\",\"order\":\"little\",\"shape\":[43]}},\"selected\":{\"id\":\"20397\"},\"selection_policy\":{\"id\":\"20423\"}},\"id\":\"20396\",\"type\":\"ColumnDataSource\"},{\"attributes\":{\"months\":[0,4,8]},\"id\":\"20419\",\"type\":\"MonthsTicker\"},{\"attributes\":{\"label\":{\"value\":\"Median Sale Price\"},\"renderers\":[{\"id\":\"20434\"}]},\"id\":\"20459\",\"type\":\"LegendItem\"},{\"attributes\":{},\"id\":\"20373\",\"type\":\"SaveTool\"},{\"attributes\":{\"angle\":{\"value\":0.0},\"fill_alpha\":{\"value\":1.0},\"fill_color\":{\"value\":\"#30a2da\"},\"hatch_alpha\":{\"value\":1.0},\"hatch_color\":{\"value\":\"black\"},\"hatch_scale\":{\"value\":12.0},\"hatch_weight\":{\"value\":1.0},\"line_alpha\":{\"value\":1.0},\"line_cap\":{\"value\":\"butt\"},\"line_color\":{\"value\":\"#30a2da\"},\"line_dash\":{\"value\":[]},\"line_dash_offset\":{\"value\":0},\"line_join\":{\"value\":\"bevel\"},\"line_width\":{\"value\":1},\"marker\":{\"value\":\"circle\"},\"size\":{\"value\":5.477225575051661},\"x\":{\"field\":\"date\"},\"y\":{\"field\":\"Listing Price\"}},\"id\":\"20427\",\"type\":\"Scatter\"},{\"attributes\":{\"margin\":[5,5,5,5],\"name\":\"VSpacer50818\",\"sizing_mode\":\"stretch_height\"},\"id\":\"20676\",\"type\":\"Spacer\"},{\"attributes\":{\"margin\":[20,20,20,20],\"min_width\":250,\"options\":[\"Chicago\",\"Minneapolis\",\"Kansas City\",\"Toledo\",\"Denver\",\"Oklahoma City\",\"Madison\",\"Des Moines\"],\"title\":\"Region\",\"value\":\"Chicago\",\"width\":250},\"id\":\"20678\",\"type\":\"Select\"},{\"attributes\":{\"data_source\":{\"id\":\"20428\"},\"glyph\":{\"id\":\"20431\"},\"hover_glyph\":null,\"muted_glyph\":{\"id\":\"20433\"},\"nonselection_glyph\":{\"id\":\"20432\"},\"selection_glyph\":{\"id\":\"20460\"},\"view\":{\"id\":\"20435\"}},\"id\":\"20434\",\"type\":\"GlyphRenderer\"},{\"attributes\":{},\"id\":\"20388\",\"type\":\"AllLabels\"},{\"attributes\":{\"fill_alpha\":{\"value\":0.1},\"fill_color\":{\"value\":\"#fc4f30\"},\"line_alpha\":{\"value\":0.1},\"line_color\":{\"value\":\"#fc4f30\"},\"size\":{\"value\":5.477225575051661},\"x\":{\"field\":\"date\"},\"y\":{\"field\":\"Sale Price\"}},\"id\":\"20432\",\"type\":\"Scatter\"},{\"attributes\":{\"source\":{\"id\":\"20428\"}},\"id\":\"20435\",\"type\":\"CDSView\"},{\"attributes\":{\"end\":1632418148571.4287,\"reset_end\":1632418148571.4287,\"reset_start\":1512628251428.5713,\"start\":1512628251428.5713,\"tags\":[[[\"date\",\"date\",null]]]},\"id\":\"20352\",\"type\":\"Range1d\"},{\"attributes\":{\"fill_color\":{\"value\":\"#fc4f30\"},\"line_color\":{\"value\":\"#fc4f30\"},\"size\":{\"value\":5.477225575051661},\"x\":{\"field\":\"date\"},\"y\":{\"field\":\"Sale Price\"}},\"id\":\"20431\",\"type\":\"Scatter\"},{\"attributes\":{\"fill_alpha\":{\"value\":0.2},\"fill_color\":{\"value\":\"#fc4f30\"},\"line_alpha\":{\"value\":0.2},\"line_color\":{\"value\":\"#fc4f30\"},\"size\":{\"value\":5.477225575051661},\"x\":{\"field\":\"date\"},\"y\":{\"field\":\"Sale Price\"}},\"id\":\"20433\",\"type\":\"Scatter\"},{\"attributes\":{},\"id\":\"20423\",\"type\":\"UnionRenderers\"},{\"attributes\":{\"fill_alpha\":{\"value\":0.1},\"fill_color\":{\"value\":\"#30a2da\"},\"line_alpha\":{\"value\":0.1},\"line_color\":{\"value\":\"#30a2da\"},\"size\":{\"value\":5.477225575051661},\"x\":{\"field\":\"date\"},\"y\":{\"field\":\"Listing Price\"}},\"id\":\"20400\",\"type\":\"Scatter\"},{\"attributes\":{\"format\":\"%.0f\"},\"id\":\"20387\",\"type\":\"PrintfTickFormatter\"},{\"attributes\":{\"below\":[{\"id\":\"20365\"}],\"center\":[{\"id\":\"20368\"},{\"id\":\"20372\"}],\"height\":300,\"left\":[{\"id\":\"20369\"}],\"margin\":[5,5,5,5],\"min_border_bottom\":10,\"min_border_left\":10,\"min_border_right\":10,\"min_border_top\":10,\"renderers\":[{\"id\":\"20402\"},{\"id\":\"20434\"}],\"right\":[{\"id\":\"20425\"}],\"sizing_mode\":\"fixed\",\"title\":{\"id\":\"20357\"},\"toolbar\":{\"id\":\"20379\"},\"width\":700,\"x_range\":{\"id\":\"20352\"},\"x_scale\":{\"id\":\"20361\"},\"y_range\":{\"id\":\"20353\"},\"y_scale\":{\"id\":\"20363\"}},\"id\":\"20356\",\"subtype\":\"Figure\",\"type\":\"Plot\"},{\"attributes\":{},\"id\":\"20391\",\"type\":\"AllLabels\"},{\"attributes\":{\"click_policy\":\"mute\",\"items\":[{\"id\":\"20426\"},{\"id\":\"20459\"}],\"location\":[0,0]},\"id\":\"20425\",\"type\":\"Legend\"},{\"attributes\":{},\"id\":\"20375\",\"type\":\"WheelZoomTool\"},{\"attributes\":{},\"id\":\"20397\",\"type\":\"Selection\"},{\"attributes\":{},\"id\":\"20457\",\"type\":\"UnionRenderers\"},{\"attributes\":{},\"id\":\"20389\",\"type\":\"DatetimeTickFormatter\"},{\"attributes\":{\"label\":{\"value\":\"Median List Price\"},\"renderers\":[{\"id\":\"20402\"}]},\"id\":\"20426\",\"type\":\"LegendItem\"},{\"attributes\":{\"callback\":null,\"formatters\":{\"@{date}\":\"datetime\"},\"renderers\":[{\"id\":\"20402\"}],\"tags\":[\"hv_created\"],\"tooltips\":[[\"date\",\"@{date}{%F %T}\"],[\"Listing Price\",\"@{Listing_Price}\"]]},\"id\":\"20354\",\"type\":\"HoverTool\"},{\"attributes\":{\"axis\":{\"id\":\"20365\"},\"grid_line_color\":null,\"ticker\":null},\"id\":\"20368\",\"type\":\"Grid\"},{\"attributes\":{\"data\":{\"Sale Price\":{\"__ndarray__\":\"AAAAAKBtCkEAAAAAwLsKQQAAAAAAUgxBAAAAAABMDUEAAAAAQGsNQQAAAACAhA5BAAAAAEDoDUEAAAAAIKAMQQAAAACAEwxBAAAAAIhbC0EAAAAAQE8LQQAAAAAA2wpBAAAAAABeCkEAAAAAgBkLQQAAAACAkAxBAAAAAABMDUEAAAAAQOgNQQAAAACAhA5BAAAAAGA2DkEAAAAAwKkNQQAAAADAMgxBAAAAAMAyDEEAAAAAoGEMQQAAAACAEwxBAAAAAIAZC0EAAAAAYMULQQAAAABA6A1BAAAAAAC9D0EAAAAAgIQOQQAAAACAAQ9BAAAAAODrD0EAAAAAIGsQQQAAAACgLBBBAAAAAMB6EEEAAAAAAL0PQQAAAADguQ9BAAAAAEDiDkEAAAAAwCAPQQAAAAAgaxBBAAAAAAAXEUEAAAAAYAESQQAAAACATxJB\",\"dtype\":\"float64\",\"order\":\"little\",\"shape\":[42]},\"Sale_Price\":{\"__ndarray__\":\"AAAAAKBtCkEAAAAAwLsKQQAAAAAAUgxBAAAAAABMDUEAAAAAQGsNQQAAAACAhA5BAAAAAEDoDUEAAAAAIKAMQQAAAACAEwxBAAAAAIhbC0EAAAAAQE8LQQAAAAAA2wpBAAAAAABeCkEAAAAAgBkLQQAAAACAkAxBAAAAAABMDUEAAAAAQOgNQQAAAACAhA5BAAAAAGA2DkEAAAAAwKkNQQAAAADAMgxBAAAAAMAyDEEAAAAAoGEMQQAAAACAEwxBAAAAAIAZC0EAAAAAYMULQQAAAABA6A1BAAAAAAC9D0EAAAAAgIQOQQAAAACAAQ9BAAAAAODrD0EAAAAAIGsQQQAAAACgLBBBAAAAAMB6EEEAAAAAAL0PQQAAAADguQ9BAAAAAEDiDkEAAAAAwCAPQQAAAAAgaxBBAAAAAAAXEUEAAAAAYAESQQAAAACATxJB\",\"dtype\":\"float64\",\"order\":\"little\",\"shape\":[42]},\"date\":{\"__ndarray__\":\"AACANZgUdkIAAIBWmx12QgAAwKiVJ3ZCAABAlT0xdkIAAIDnNzt2QgAAANTfRHZCAABAJtpOdkIAAIB41Fh2QgAAAGV8YnZCAABAt3ZsdkIAAMCjHnZ2QgAAAPYYgHZCAABASBOKdkIAAEBpFpN2QgAAgLsQnXZCAAAAqLimdkIAAED6srB2QgAAwOZaunZCAAAAOVXEdkIAAECLT852QgAAwHf313ZCAAAAyvHhdkIAAIC2met2QgAAwAiU9XZCAAAAW47/dkIAAMDh4wh3QgAAADTeEndCAACAIIYcd0IAAMBygCZ3QgAAQF8oMHdCAACAsSI6d0IAAMADHUR3QgAAQPDETXdCAACAQr9Xd0IAAAAvZ2F3QgAAQIFha3dCAACA01t1d0IAAID0Xn53QgAAwEZZiHdCAABAMwGSd0IAAICF+5t3QgAAAHKjpXdC\",\"dtype\":\"float64\",\"order\":\"little\",\"shape\":[42]}},\"selected\":{\"id\":\"20429\"},\"selection_policy\":{\"id\":\"20457\"}},\"id\":\"20428\",\"type\":\"ColumnDataSource\"},{\"attributes\":{},\"id\":\"20377\",\"type\":\"ResetTool\"},{\"attributes\":{\"active_multi\":null,\"tools\":[{\"id\":\"20354\"},{\"id\":\"20355\"},{\"id\":\"20373\"},{\"id\":\"20374\"},{\"id\":\"20375\"},{\"id\":\"20376\"},{\"id\":\"20377\"}]},\"id\":\"20379\",\"type\":\"Toolbar\"},{\"attributes\":{\"fill_color\":{\"value\":\"#30a2da\"},\"line_color\":{\"value\":\"#30a2da\"},\"size\":{\"value\":5.477225575051661},\"x\":{\"field\":\"date\"},\"y\":{\"field\":\"Listing Price\"}},\"id\":\"20399\",\"type\":\"Scatter\"},{\"attributes\":{\"axis\":{\"id\":\"20369\"},\"dimension\":1,\"grid_line_color\":null,\"ticker\":null},\"id\":\"20372\",\"type\":\"Grid\"},{\"attributes\":{\"source\":{\"id\":\"20396\"}},\"id\":\"20403\",\"type\":\"CDSView\"},{\"attributes\":{},\"id\":\"20363\",\"type\":\"LinearScale\"},{\"attributes\":{\"data_source\":{\"id\":\"20396\"},\"glyph\":{\"id\":\"20399\"},\"hover_glyph\":null,\"muted_glyph\":{\"id\":\"20401\"},\"nonselection_glyph\":{\"id\":\"20400\"},\"selection_glyph\":{\"id\":\"20427\"},\"view\":{\"id\":\"20403\"}},\"id\":\"20402\",\"type\":\"GlyphRenderer\"},{\"attributes\":{\"children\":[{\"id\":\"20676\"},{\"id\":\"20677\"},{\"id\":\"20679\"}],\"margin\":[0,0,0,0],\"name\":\"Column50820\"},\"id\":\"20675\",\"type\":\"Column\"},{\"attributes\":{\"axis_label\":\"date\",\"formatter\":{\"id\":\"20389\"},\"major_label_orientation\":1.5707963267948966,\"major_label_policy\":{\"id\":\"20388\"},\"ticker\":{\"id\":\"20366\"}},\"id\":\"20365\",\"type\":\"DatetimeAxis\"},{\"attributes\":{\"angle\":{\"value\":0.0},\"fill_alpha\":{\"value\":1.0},\"fill_color\":{\"value\":\"#fc4f30\"},\"hatch_alpha\":{\"value\":1.0},\"hatch_color\":{\"value\":\"black\"},\"hatch_scale\":{\"value\":12.0},\"hatch_weight\":{\"value\":1.0},\"line_alpha\":{\"value\":1.0},\"line_cap\":{\"value\":\"butt\"},\"line_color\":{\"value\":\"#fc4f30\"},\"line_dash\":{\"value\":[]},\"line_dash_offset\":{\"value\":0},\"line_join\":{\"value\":\"bevel\"},\"line_width\":{\"value\":1},\"marker\":{\"value\":\"circle\"},\"size\":{\"value\":5.477225575051661},\"x\":{\"field\":\"date\"},\"y\":{\"field\":\"Sale Price\"}},\"id\":\"20460\",\"type\":\"Scatter\"},{\"attributes\":{},\"id\":\"20374\",\"type\":\"PanTool\"},{\"attributes\":{\"margin\":[5,5,5,5],\"name\":\"HSpacer50822\",\"sizing_mode\":\"stretch_width\"},\"id\":\"20674\",\"type\":\"Spacer\"},{\"attributes\":{\"fill_alpha\":{\"value\":0.2},\"fill_color\":{\"value\":\"#30a2da\"},\"line_alpha\":{\"value\":0.2},\"line_color\":{\"value\":\"#30a2da\"},\"size\":{\"value\":5.477225575051661},\"x\":{\"field\":\"date\"},\"y\":{\"field\":\"Listing Price\"}},\"id\":\"20401\",\"type\":\"Scatter\"},{\"attributes\":{\"callback\":null,\"formatters\":{\"@{date}\":\"datetime\"},\"renderers\":[{\"id\":\"20434\"}],\"tags\":[\"hv_created\"],\"tooltips\":[[\"date\",\"@{date}{%F %T}\"],[\"Sale Price\",\"@{Sale_Price}\"]]},\"id\":\"20355\",\"type\":\"HoverTool\"},{\"attributes\":{\"children\":[{\"id\":\"20351\"},{\"id\":\"20356\"},{\"id\":\"20674\"},{\"id\":\"20675\"}],\"margin\":[0,0,0,0],\"name\":\"Row50812\"},\"id\":\"20350\",\"type\":\"Row\"},{\"attributes\":{},\"id\":\"20429\",\"type\":\"Selection\"}],\"root_ids\":[\"20350\",\"20749\"]},\"title\":\"Bokeh Application\",\"version\":\"2.3.3\"}};\n",
       "    var render_items = [{\"docid\":\"35980428-7e05-4fbb-b88f-33d303bfc91f\",\"root_ids\":[\"20350\"],\"roots\":{\"20350\":\"79002d06-8730-44e6-bd40-97a3503d66b8\"}}];\n",
       "    root.Bokeh.embed.embed_items_notebook(docs_json, render_items);\n",
       "  }\n",
       "  if (root.Bokeh !== undefined && root.Bokeh.Panel !== undefined) {\n",
       "    embed_document(root);\n",
       "  } else {\n",
       "    var attempts = 0;\n",
       "    var timer = setInterval(function(root) {\n",
       "      if (root.Bokeh !== undefined && root.Bokeh.Panel !== undefined) {\n",
       "        clearInterval(timer);\n",
       "        embed_document(root);\n",
       "      } else if (document.readyState == \"complete\") {\n",
       "        attempts++;\n",
       "        if (attempts > 200) {\n",
       "          clearInterval(timer);\n",
       "          console.log(\"Bokeh: ERROR: Unable to run BokehJS code because BokehJS library is missing\");\n",
       "        }\n",
       "      }\n",
       "    }, 25, root)\n",
       "  }\n",
       "})(window);</script>"
      ],
      "text/plain": [
       ":DynamicMap   [Region]\n",
       "   :Overlay\n",
       "      .Scatter.Median_List_Price :Scatter   [date]   (Listing Price)\n",
       "      .Scatter.Median_Sale_Price :Scatter   [date]   (Sale Price)"
      ]
     },
     "execution_count": 182,
     "metadata": {
      "application/vnd.holoviews_exec.v0+json": {
       "id": "20350"
      }
     },
     "output_type": "execute_result"
    }
   ],
   "source": [
    "sale_price_plot = df_sale_price.hvplot.scatter(x='date', y='Sale Price', label=\"Median Sale Price\", groupby='Region', rot=90).opts(yformatter=\"%.0f\")\n",
    "list_price_plot = df_list_price.hvplot.scatter(x='date', y='Listing Price',label='Median List Price',groupby='Region',rot=90).opts(yformatter=\"%.0f\")\n",
    "\n",
    "list_price_plot * sale_price_plot\n"
   ]
  },
  {
   "cell_type": "markdown",
   "metadata": {},
   "source": [
    "# What does the data tell us?"
   ]
  },
  {
   "cell_type": "markdown",
   "metadata": {},
   "source": [
    "Looking at the ploy above, we can see that on average, houses on Zillow do not sell near their list price. This could be due to Zillow's (Now former) market strategy of purchasing a house, pricing it exponentially higher than market value hoping a potential purchaser will bite, and lowering the price continually until it sells(per (Investopedia)|(https://www.investopedia.com/articles/personal-finance/110615/why-zillow-free-and-how-it-makes-money.asp). This means that potential buyers are getting a deal on property. The only time we see that the gap between the sale price and list price is in Toledo. Potential buyers are still getting a deal, however the deals there are not always that great when compared to Minneapolis or Chicago where the gap between Sale Price and List price is consistently higher than the other states."
   ]
  },
  {
   "cell_type": "code",
   "execution_count": null,
   "metadata": {},
   "outputs": [],
   "source": []
  }
 ],
 "metadata": {
  "interpreter": {
   "hash": "40d3a090f54c6569ab1632332b64b2c03c39dcf918b08424e98f38b5ae0af88f"
  },
  "kernelspec": {
   "display_name": "Python 3 (ipykernel)",
   "language": "python",
   "name": "python3"
  },
  "language_info": {
   "codemirror_mode": {
    "name": "ipython",
    "version": 3
   },
   "file_extension": ".py",
   "mimetype": "text/x-python",
   "name": "python",
   "nbconvert_exporter": "python",
   "pygments_lexer": "ipython3",
   "version": "3.8.8"
  }
 },
 "nbformat": 4,
 "nbformat_minor": 2
}
