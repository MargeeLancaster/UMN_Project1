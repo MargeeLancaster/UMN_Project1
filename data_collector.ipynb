{
 "cells": [
  {
   "cell_type": "code",
   "execution_count": null,
   "metadata": {},
   "outputs": [],
   "source": [
    "import os, pathlib, dotenv, quandl\n",
    "from dotenv import load_dotenv\n",
    "import pandas as pd\n",
    "\n",
    "# Set the Environment variable\n",
    "load_dotenv()\n",
    "\n",
    "# Set the API Key\n",
    "api_key = os.getenv(\"QUANDL_API_KEY\")\n",
    "\n",
    "# Configure Quandl to use the the API key\n",
    "quandl.ApiConfig.api_key = api_key\n",
    "\n",
    "# Since we are using Zillow data, set the Data provider to Zillow\n",
    "data_provider = 'ZILLOW/DATA'"
   ]
  },
  {
   "cell_type": "code",
   "execution_count": 8,
   "metadata": {},
   "outputs": [],
   "source": [
    "# Define the Region ID by Metro Area\n",
    "dict_metro_market = {\n",
    "    'Chicago, IL': 394463,\n",
    "    'Des Moines, IA': 394531,\n",
    "    'Denver, CO': 394530,\n",
    "    'Kansas City, MO': 394735,\n",
    "    'Madison, WI': 394816,\n",
    "    'Minneapolis, MN': 394865,\n",
    "    'Oklahoma City, OK': 394935,\n",
    "    'Toledo, OH': 395160  \n",
    "}\n",
    "\n",
    "# Define the list of Indicator IDs. This is for \"For Sale Inventory,\"\n",
    "# \"Median Sale Price\" and \"Median List Price\"\n",
    "indicator_id_list = ['IRAM', 'SRAM', 'LRAM']"
   ]
  },
  {
   "cell_type": "code",
   "execution_count": 9,
   "metadata": {},
   "outputs": [],
   "source": [
    "# Create Function for calling data with API to make file creation easier\n",
    "def zillow_table(provider, indicator, region):\n",
    "    requested_table = quandl.get_table(provider, indicator_id=indicator, region_id=region)\n",
    "    return(requested_table)"
   ]
  },
  {
   "cell_type": "code",
   "execution_count": null,
   "metadata": {},
   "outputs": [],
   "source": []
  }
 ],
 "metadata": {
  "interpreter": {
   "hash": "40d3a090f54c6569ab1632332b64b2c03c39dcf918b08424e98f38b5ae0af88f"
  },
  "kernelspec": {
   "display_name": "Python 3.8.8 64-bit ('base': conda)",
   "name": "python3"
  },
  "language_info": {
   "codemirror_mode": {
    "name": "ipython",
    "version": 3
   },
   "file_extension": ".py",
   "mimetype": "text/x-python",
   "name": "python",
   "nbconvert_exporter": "python",
   "pygments_lexer": "ipython3",
   "version": "3.8.8"
  },
  "orig_nbformat": 4
 },
 "nbformat": 4,
 "nbformat_minor": 2
}
