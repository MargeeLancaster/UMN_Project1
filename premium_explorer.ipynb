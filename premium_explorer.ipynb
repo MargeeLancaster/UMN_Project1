{
 "cells": [
  {
   "cell_type": "code",
   "execution_count": 112,
   "metadata": {},
   "outputs": [],
   "source": [
    "import pandas as pd\n",
    "import csv\n",
    "import bokeh\n",
    "from pathlib import Path\n",
    "import hvplot.pandas\n",
    "import os\n",
    "import glob\n",
    "import matplotlib.pyplot as plt\n"
   ]
  },
  {
   "cell_type": "markdown",
   "metadata": {},
   "source": [
    "### Compare the list and sale price to find if buyers are buying at a premium or getting a discount."
   ]
  },
  {
   "cell_type": "markdown",
   "metadata": {},
   "source": [
    "## Create and Clean the new Data frames"
   ]
  },
  {
   "cell_type": "code",
   "execution_count": 175,
   "metadata": {},
   "outputs": [
    {
     "name": "stderr",
     "output_type": "stream",
     "text": [
      "/var/folders/y4/x5w7cmpd0wvg6v1klh51sxvc0000gn/T/ipykernel_9920/1300110981.py:38: FutureWarning: Value based partial slicing on non-monotonic DatetimeIndexes with non-existing keys is deprecated and will raise a KeyError in a future Version.\n",
      "  df_sale_price = df_sale_price['2018':'2021']\n",
      "/var/folders/y4/x5w7cmpd0wvg6v1klh51sxvc0000gn/T/ipykernel_9920/1300110981.py:39: FutureWarning: Value based partial slicing on non-monotonic DatetimeIndexes with non-existing keys is deprecated and will raise a KeyError in a future Version.\n",
      "  df_list_price = df_list_price['2018':'2021']\n"
     ]
    }
   ],
   "source": [
    "# Set the path for the csv files\n",
    "data_path = r'./data/'\n",
    "sale_price_filenames = glob.glob(data_path + \"/*_Sale_Price.csv\")\n",
    "list_price_filenames = glob.glob(data_path + \"/*_List_Price.csv\")\n",
    "\n",
    "# Create two lists to be iterated through  to create the dataframe\n",
    "sale_price_list = []\n",
    "list_price_list = []\n",
    "\n",
    "# Loop through each file name and append it to the corresponding list\n",
    "for filename in sale_price_filenames:\n",
    "    sale_price_list.append(pd.read_csv(filename, index_col=\"date\", parse_dates=True, infer_datetime_format=True))\n",
    "\n",
    "for filename in list_price_filenames:\n",
    "    list_price_list.append(pd.read_csv(filename, index_col='date', parse_dates=True, infer_datetime_format=True))\n",
    "\n",
    "# Create a new Dataframe by concatenating the data from each file in the list \n",
    "df_sale_price = pd.concat(sale_price_list)\n",
    "df_list_price = pd.concat(list_price_list)\n",
    "\n",
    "# Drop the 'None' Column from teh Dataframes and change the Column Names\n",
    "#df_sale_price = df_sale_price.drop(columns=['None'])\n",
    "df_sale_price = df_sale_price.rename(columns={\n",
    "    'date': 'Date',\n",
    "    'value': 'Sale Price',\n",
    "    'metro_area': 'Region'\n",
    "})\n",
    "\n",
    "#df_list_price = df_list_price.drop(columns=['None'])\n",
    "df_list_price = df_list_price.rename(columns={\n",
    "    'date': 'Date',\n",
    "    'value': 'Listing Price',\n",
    "    'metro_area': 'Region'\n",
    "})\n",
    "\n",
    "# Create a new Column for the Year\n",
    "df_sale_price['Year'] = df_sale_price.index.year\n",
    "df_list_price['Year'] = df_list_price.index.year\n",
    "\n",
    "# Set the value of the column Year to 2018 through 2021 when Zillow data was accessible\n",
    "df_sale_price = df_sale_price['2018':'2021']\n",
    "df_list_price = df_list_price['2018':'2021']\n",
    "\n"
   ]
  },
  {
   "cell_type": "markdown",
   "metadata": {},
   "source": [
    "## Create the Data Visualizations"
   ]
  },
  {
   "cell_type": "code",
   "execution_count": 184,
   "metadata": {},
   "outputs": [
    {
     "data": {},
     "metadata": {},
     "output_type": "display_data"
    },
    {
     "data": {
      "application/vnd.holoviews_exec.v0+json": "",
      "text/html": [
       "<div id='21803'>\n",
       "\n",
       "\n",
       "\n",
       "\n",
       "\n",
       "  <div class=\"bk-root\" id=\"74e65cbf-e39c-4c7e-baf4-8e289de32bdc\" data-root-id=\"21803\"></div>\n",
       "</div>\n",
       "<script type=\"application/javascript\">(function(root) {\n",
       "  function embed_document(root) {\n",
       "    var docs_json = {\"0b8a5b0a-9f39-4790-b14f-931245dabf7d\":{\"defs\":[{\"extends\":null,\"module\":null,\"name\":\"ReactiveHTML1\",\"overrides\":[],\"properties\":[]},{\"extends\":null,\"module\":null,\"name\":\"FlexBox1\",\"overrides\":[],\"properties\":[{\"default\":\"flex-start\",\"kind\":null,\"name\":\"align_content\"},{\"default\":\"flex-start\",\"kind\":null,\"name\":\"align_items\"},{\"default\":\"row\",\"kind\":null,\"name\":\"flex_direction\"},{\"default\":\"wrap\",\"kind\":null,\"name\":\"flex_wrap\"},{\"default\":\"flex-start\",\"kind\":null,\"name\":\"justify_content\"}]},{\"extends\":null,\"module\":null,\"name\":\"TemplateActions1\",\"overrides\":[],\"properties\":[{\"default\":0,\"kind\":null,\"name\":\"open_modal\"},{\"default\":0,\"kind\":null,\"name\":\"close_modal\"}]},{\"extends\":null,\"module\":null,\"name\":\"MaterialTemplateActions1\",\"overrides\":[],\"properties\":[{\"default\":0,\"kind\":null,\"name\":\"open_modal\"},{\"default\":0,\"kind\":null,\"name\":\"close_modal\"}]}],\"roots\":{\"references\":[{\"attributes\":{\"months\":[0,6]},\"id\":\"21873\",\"type\":\"MonthsTicker\"},{\"attributes\":{},\"id\":\"21874\",\"type\":\"YearsTicker\"},{\"attributes\":{\"label\":{\"value\":\"Median Sale Price\"},\"renderers\":[{\"id\":\"21887\"}]},\"id\":\"21912\",\"type\":\"LegendItem\"},{\"attributes\":{\"callback\":null,\"formatters\":{\"@{date}\":\"datetime\"},\"renderers\":[{\"id\":\"21855\"}],\"tags\":[\"hv_created\"],\"tooltips\":[[\"date\",\"@{date}{%F %T}\"],[\"Listing Price\",\"@{Listing_Price}\"]]},\"id\":\"21807\",\"type\":\"HoverTool\"},{\"attributes\":{\"months\":[0,2,4,6,8,10]},\"id\":\"21871\",\"type\":\"MonthsTicker\"},{\"attributes\":{\"source\":{\"id\":\"21881\"}},\"id\":\"21888\",\"type\":\"CDSView\"},{\"attributes\":{\"axis_label\":\"Listing Price\",\"formatter\":{\"id\":\"21840\"},\"major_label_policy\":{\"id\":\"21844\"},\"ticker\":{\"id\":\"21823\"}},\"id\":\"21822\",\"type\":\"LinearAxis\"},{\"attributes\":{\"months\":[0,4,8]},\"id\":\"21872\",\"type\":\"MonthsTicker\"},{\"attributes\":{\"children\":[{\"id\":\"22129\"},{\"id\":\"22130\"},{\"id\":\"22132\"}],\"margin\":[0,0,0,0],\"name\":\"Column55423\"},\"id\":\"22128\",\"type\":\"Column\"},{\"attributes\":{\"fill_alpha\":{\"value\":0.1},\"fill_color\":{\"value\":\"#30a2da\"},\"line_alpha\":{\"value\":0.1},\"line_color\":{\"value\":\"#30a2da\"},\"size\":{\"value\":5.477225575051661},\"x\":{\"field\":\"date\"},\"y\":{\"field\":\"Listing Price\"}},\"id\":\"21853\",\"type\":\"Scatter\"},{\"attributes\":{},\"id\":\"21882\",\"type\":\"Selection\"},{\"attributes\":{\"margin\":[5,5,5,5],\"name\":\"HSpacer55425\",\"sizing_mode\":\"stretch_width\"},\"id\":\"22127\",\"type\":\"Spacer\"},{\"attributes\":{\"format\":\"%.0f\"},\"id\":\"21840\",\"type\":\"PrintfTickFormatter\"},{\"attributes\":{},\"id\":\"21844\",\"type\":\"AllLabels\"},{\"attributes\":{\"text\":\"Region: Chicago\",\"text_color\":\"black\",\"text_font_size\":\"12pt\"},\"id\":\"21810\",\"type\":\"Title\"},{\"attributes\":{},\"id\":\"21841\",\"type\":\"AllLabels\"},{\"attributes\":{\"click_policy\":\"mute\",\"items\":[{\"id\":\"21879\"},{\"id\":\"21912\"}],\"location\":[0,0]},\"id\":\"21878\",\"type\":\"Legend\"},{\"attributes\":{\"end\":373300.0,\"reset_end\":373300.0,\"reset_start\":201700.0,\"start\":201700.0,\"tags\":[[[\"Listing Price\",\"Listing Price\",null]]]},\"id\":\"21806\",\"type\":\"Range1d\"},{\"attributes\":{},\"id\":\"21850\",\"type\":\"Selection\"},{\"attributes\":{\"axis_label\":\"date\",\"formatter\":{\"id\":\"21842\"},\"major_label_orientation\":1.5707963267948966,\"major_label_policy\":{\"id\":\"21841\"},\"ticker\":{\"id\":\"21819\"}},\"id\":\"21818\",\"type\":\"DatetimeAxis\"},{\"attributes\":{},\"id\":\"21842\",\"type\":\"DatetimeTickFormatter\"},{\"attributes\":{},\"id\":\"21876\",\"type\":\"UnionRenderers\"},{\"attributes\":{},\"id\":\"21910\",\"type\":\"UnionRenderers\"},{\"attributes\":{\"below\":[{\"id\":\"21818\"}],\"center\":[{\"id\":\"21821\"},{\"id\":\"21825\"}],\"height\":300,\"left\":[{\"id\":\"21822\"}],\"margin\":[5,5,5,5],\"min_border_bottom\":10,\"min_border_left\":10,\"min_border_right\":10,\"min_border_top\":10,\"renderers\":[{\"id\":\"21855\"},{\"id\":\"21887\"}],\"right\":[{\"id\":\"21878\"}],\"sizing_mode\":\"fixed\",\"title\":{\"id\":\"21810\"},\"toolbar\":{\"id\":\"21832\"},\"width\":700,\"x_range\":{\"id\":\"21805\"},\"x_scale\":{\"id\":\"21814\"},\"y_range\":{\"id\":\"21806\"},\"y_scale\":{\"id\":\"21816\"}},\"id\":\"21809\",\"subtype\":\"Figure\",\"type\":\"Plot\"},{\"attributes\":{\"end\":1632418148571.4287,\"reset_end\":1632418148571.4287,\"reset_start\":1512628251428.5713,\"start\":1512628251428.5713,\"tags\":[[[\"date\",\"date\",null]]]},\"id\":\"21805\",\"type\":\"Range1d\"},{\"attributes\":{\"label\":{\"value\":\"Median List Price\"},\"renderers\":[{\"id\":\"21855\"}]},\"id\":\"21879\",\"type\":\"LegendItem\"},{\"attributes\":{\"axis\":{\"id\":\"21818\"},\"grid_line_color\":null,\"ticker\":null},\"id\":\"21821\",\"type\":\"Grid\"},{\"attributes\":{\"fill_color\":{\"value\":\"#30a2da\"},\"line_color\":{\"value\":\"#30a2da\"},\"size\":{\"value\":5.477225575051661},\"x\":{\"field\":\"date\"},\"y\":{\"field\":\"Listing Price\"}},\"id\":\"21852\",\"type\":\"Scatter\"},{\"attributes\":{\"client_comm_id\":\"4b2729ca96774e2a9bcbbb1b999f8dff\",\"comm_id\":\"0fb1cc9c31b54e27840404149ccefbac\",\"plot_id\":\"21803\"},\"id\":\"22202\",\"type\":\"panel.models.comm_manager.CommManager\"},{\"attributes\":{\"callback\":null,\"formatters\":{\"@{date}\":\"datetime\"},\"renderers\":[{\"id\":\"21887\"}],\"tags\":[\"hv_created\"],\"tooltips\":[[\"date\",\"@{date}{%F %T}\"],[\"Sale Price\",\"@{Sale_Price}\"]]},\"id\":\"21808\",\"type\":\"HoverTool\"},{\"attributes\":{},\"id\":\"21816\",\"type\":\"LinearScale\"},{\"attributes\":{\"data\":{\"Listing Price\":{\"__ndarray__\":\"AAAAAOA/EkEAAAAAcIYTQQAAAADgsBRBAAAAACBNFUEAAAAAMFsVQQAAAACgDhVBAAAAAHCAFEEAAAAAICEUQQAAAAAg1hNBAAAAAHCGE0EAAAAAwOsSQQAAAADwTRJBAAAAAPBNEkEAAAAAAIgTQQAAAADgsBRBAAAAACBNFUEAAAAA8FQVQQAAAABwFhVBAAAAALC4FEEAAAAAsCIUQQAAAAAg1hNBAAAAAHCGE0EAAAAAEDITQQAAAAAgaRJBAAAAAECtEkEAAAAAkNQTQQAAAABYQxRBAAAAAKAUFEEAAAAAYHIUQQAAAACgDhVBAAAAADBbFUEAAAAAMFsVQQAAAADAXBVBAAAAAJBLFUEAAAAA4LAUQQAAAABAJBRBAAAAACDWE0EAAAAAgMAUQQAAAAAwWxVBAAAAAMBcFUEAAAAAYOkVQQAAAABQqRVBAAAAADBbFUE=\",\"dtype\":\"float64\",\"order\":\"little\",\"shape\":[43]},\"Listing_Price\":{\"__ndarray__\":\"AAAAAOA/EkEAAAAAcIYTQQAAAADgsBRBAAAAACBNFUEAAAAAMFsVQQAAAACgDhVBAAAAAHCAFEEAAAAAICEUQQAAAAAg1hNBAAAAAHCGE0EAAAAAwOsSQQAAAADwTRJBAAAAAPBNEkEAAAAAAIgTQQAAAADgsBRBAAAAACBNFUEAAAAA8FQVQQAAAABwFhVBAAAAALC4FEEAAAAAsCIUQQAAAAAg1hNBAAAAAHCGE0EAAAAAEDITQQAAAAAgaRJBAAAAAECtEkEAAAAAkNQTQQAAAABYQxRBAAAAAKAUFEEAAAAAYHIUQQAAAACgDhVBAAAAADBbFUEAAAAAMFsVQQAAAADAXBVBAAAAAJBLFUEAAAAA4LAUQQAAAABAJBRBAAAAACDWE0EAAAAAgMAUQQAAAAAwWxVBAAAAAMBcFUEAAAAAYOkVQQAAAABQqRVBAAAAADBbFUE=\",\"dtype\":\"float64\",\"order\":\"little\",\"shape\":[43]},\"date\":{\"__ndarray__\":\"AACANZgUdkIAAIBWmx12QgAAwKiVJ3ZCAABAlT0xdkIAAIDnNzt2QgAAANTfRHZCAABAJtpOdkIAAIB41Fh2QgAAAGV8YnZCAABAt3ZsdkIAAMCjHnZ2QgAAAPYYgHZCAABASBOKdkIAAEBpFpN2QgAAgLsQnXZCAAAAqLimdkIAAED6srB2QgAAwOZaunZCAAAAOVXEdkIAAECLT852QgAAwHf313ZCAAAAyvHhdkIAAIC2met2QgAAwAiU9XZCAAAAW47/dkIAAMDh4wh3QgAAADTeEndCAACAIIYcd0IAAMBygCZ3QgAAQF8oMHdCAACAsSI6d0IAAMADHUR3QgAAQPDETXdCAACAQr9Xd0IAAAAvZ2F3QgAAQIFha3dCAACA01t1d0IAAID0Xn53QgAAwEZZiHdCAABAMwGSd0IAAICF+5t3QgAAAHKjpXdCAABAxJ2vd0I=\",\"dtype\":\"float64\",\"order\":\"little\",\"shape\":[43]}},\"selected\":{\"id\":\"21850\"},\"selection_policy\":{\"id\":\"21876\"}},\"id\":\"21849\",\"type\":\"ColumnDataSource\"},{\"attributes\":{\"source\":{\"id\":\"21849\"}},\"id\":\"21856\",\"type\":\"CDSView\"},{\"attributes\":{},\"id\":\"21814\",\"type\":\"LinearScale\"},{\"attributes\":{\"axis\":{\"id\":\"21822\"},\"dimension\":1,\"grid_line_color\":null,\"ticker\":null},\"id\":\"21825\",\"type\":\"Grid\"},{\"attributes\":{\"data_source\":{\"id\":\"21849\"},\"glyph\":{\"id\":\"21852\"},\"hover_glyph\":null,\"muted_glyph\":{\"id\":\"21854\"},\"nonselection_glyph\":{\"id\":\"21853\"},\"selection_glyph\":{\"id\":\"21880\"},\"view\":{\"id\":\"21856\"}},\"id\":\"21855\",\"type\":\"GlyphRenderer\"},{\"attributes\":{\"num_minor_ticks\":5,\"tickers\":[{\"id\":\"21863\"},{\"id\":\"21864\"},{\"id\":\"21865\"},{\"id\":\"21866\"},{\"id\":\"21867\"},{\"id\":\"21868\"},{\"id\":\"21869\"},{\"id\":\"21870\"},{\"id\":\"21871\"},{\"id\":\"21872\"},{\"id\":\"21873\"},{\"id\":\"21874\"}]},\"id\":\"21819\",\"type\":\"DatetimeTicker\"},{\"attributes\":{},\"id\":\"21827\",\"type\":\"PanTool\"},{\"attributes\":{},\"id\":\"21828\",\"type\":\"WheelZoomTool\"},{\"attributes\":{\"fill_alpha\":{\"value\":0.2},\"fill_color\":{\"value\":\"#30a2da\"},\"line_alpha\":{\"value\":0.2},\"line_color\":{\"value\":\"#30a2da\"},\"size\":{\"value\":5.477225575051661},\"x\":{\"field\":\"date\"},\"y\":{\"field\":\"Listing Price\"}},\"id\":\"21854\",\"type\":\"Scatter\"},{\"attributes\":{\"children\":[{\"id\":\"22131\"}],\"css_classes\":[\"panel-widget-box\"],\"margin\":[5,5,5,5],\"name\":\"WidgetBox55416\"},\"id\":\"22130\",\"type\":\"Column\"},{\"attributes\":{},\"id\":\"21823\",\"type\":\"BasicTicker\"},{\"attributes\":{\"angle\":{\"value\":0.0},\"fill_alpha\":{\"value\":1.0},\"fill_color\":{\"value\":\"#fc4f30\"},\"hatch_alpha\":{\"value\":1.0},\"hatch_color\":{\"value\":\"black\"},\"hatch_scale\":{\"value\":12.0},\"hatch_weight\":{\"value\":1.0},\"line_alpha\":{\"value\":1.0},\"line_cap\":{\"value\":\"butt\"},\"line_color\":{\"value\":\"#fc4f30\"},\"line_dash\":{\"value\":[]},\"line_dash_offset\":{\"value\":0},\"line_join\":{\"value\":\"bevel\"},\"line_width\":{\"value\":1},\"marker\":{\"value\":\"circle\"},\"size\":{\"value\":5.477225575051661},\"x\":{\"field\":\"date\"},\"y\":{\"field\":\"Sale Price\"}},\"id\":\"21913\",\"type\":\"Scatter\"},{\"attributes\":{},\"id\":\"21826\",\"type\":\"SaveTool\"},{\"attributes\":{\"overlay\":{\"id\":\"21831\"}},\"id\":\"21829\",\"type\":\"BoxZoomTool\"},{\"attributes\":{},\"id\":\"21830\",\"type\":\"ResetTool\"},{\"attributes\":{\"active_multi\":null,\"tools\":[{\"id\":\"21807\"},{\"id\":\"21808\"},{\"id\":\"21826\"},{\"id\":\"21827\"},{\"id\":\"21828\"},{\"id\":\"21829\"},{\"id\":\"21830\"}]},\"id\":\"21832\",\"type\":\"Toolbar\"},{\"attributes\":{\"margin\":[5,5,5,5],\"name\":\"HSpacer55424\",\"sizing_mode\":\"stretch_width\"},\"id\":\"21804\",\"type\":\"Spacer\"},{\"attributes\":{\"margin\":[5,5,5,5],\"name\":\"VSpacer55422\",\"sizing_mode\":\"stretch_height\"},\"id\":\"22132\",\"type\":\"Spacer\"},{\"attributes\":{\"margin\":[5,5,5,5],\"name\":\"VSpacer55421\",\"sizing_mode\":\"stretch_height\"},\"id\":\"22129\",\"type\":\"Spacer\"},{\"attributes\":{\"data\":{\"Sale Price\":{\"__ndarray__\":\"AAAAAKBtCkEAAAAAwLsKQQAAAAAAUgxBAAAAAABMDUEAAAAAQGsNQQAAAACAhA5BAAAAAEDoDUEAAAAAIKAMQQAAAACAEwxBAAAAAIhbC0EAAAAAQE8LQQAAAAAA2wpBAAAAAABeCkEAAAAAgBkLQQAAAACAkAxBAAAAAABMDUEAAAAAQOgNQQAAAACAhA5BAAAAAGA2DkEAAAAAwKkNQQAAAADAMgxBAAAAAMAyDEEAAAAAoGEMQQAAAACAEwxBAAAAAIAZC0EAAAAAYMULQQAAAABA6A1BAAAAAAC9D0EAAAAAgIQOQQAAAACAAQ9BAAAAAODrD0EAAAAAIGsQQQAAAACgLBBBAAAAAMB6EEEAAAAAAL0PQQAAAADguQ9BAAAAAEDiDkEAAAAAwCAPQQAAAAAgaxBBAAAAAAAXEUEAAAAAYAESQQAAAACATxJB\",\"dtype\":\"float64\",\"order\":\"little\",\"shape\":[42]},\"Sale_Price\":{\"__ndarray__\":\"AAAAAKBtCkEAAAAAwLsKQQAAAAAAUgxBAAAAAABMDUEAAAAAQGsNQQAAAACAhA5BAAAAAEDoDUEAAAAAIKAMQQAAAACAEwxBAAAAAIhbC0EAAAAAQE8LQQAAAAAA2wpBAAAAAABeCkEAAAAAgBkLQQAAAACAkAxBAAAAAABMDUEAAAAAQOgNQQAAAACAhA5BAAAAAGA2DkEAAAAAwKkNQQAAAADAMgxBAAAAAMAyDEEAAAAAoGEMQQAAAACAEwxBAAAAAIAZC0EAAAAAYMULQQAAAABA6A1BAAAAAAC9D0EAAAAAgIQOQQAAAACAAQ9BAAAAAODrD0EAAAAAIGsQQQAAAACgLBBBAAAAAMB6EEEAAAAAAL0PQQAAAADguQ9BAAAAAEDiDkEAAAAAwCAPQQAAAAAgaxBBAAAAAAAXEUEAAAAAYAESQQAAAACATxJB\",\"dtype\":\"float64\",\"order\":\"little\",\"shape\":[42]},\"date\":{\"__ndarray__\":\"AACANZgUdkIAAIBWmx12QgAAwKiVJ3ZCAABAlT0xdkIAAIDnNzt2QgAAANTfRHZCAABAJtpOdkIAAIB41Fh2QgAAAGV8YnZCAABAt3ZsdkIAAMCjHnZ2QgAAAPYYgHZCAABASBOKdkIAAEBpFpN2QgAAgLsQnXZCAAAAqLimdkIAAED6srB2QgAAwOZaunZCAAAAOVXEdkIAAECLT852QgAAwHf313ZCAAAAyvHhdkIAAIC2met2QgAAwAiU9XZCAAAAW47/dkIAAMDh4wh3QgAAADTeEndCAACAIIYcd0IAAMBygCZ3QgAAQF8oMHdCAACAsSI6d0IAAMADHUR3QgAAQPDETXdCAACAQr9Xd0IAAAAvZ2F3QgAAQIFha3dCAACA01t1d0IAAID0Xn53QgAAwEZZiHdCAABAMwGSd0IAAICF+5t3QgAAAHKjpXdC\",\"dtype\":\"float64\",\"order\":\"little\",\"shape\":[42]}},\"selected\":{\"id\":\"21882\"},\"selection_policy\":{\"id\":\"21910\"}},\"id\":\"21881\",\"type\":\"ColumnDataSource\"},{\"attributes\":{\"children\":[{\"id\":\"21804\"},{\"id\":\"21809\"},{\"id\":\"22127\"},{\"id\":\"22128\"}],\"margin\":[0,0,0,0],\"name\":\"Row55415\"},\"id\":\"21803\",\"type\":\"Row\"},{\"attributes\":{\"bottom_units\":\"screen\",\"fill_alpha\":0.5,\"fill_color\":\"lightgrey\",\"left_units\":\"screen\",\"level\":\"overlay\",\"line_alpha\":1.0,\"line_color\":\"black\",\"line_dash\":[4,4],\"line_width\":2,\"right_units\":\"screen\",\"syncable\":false,\"top_units\":\"screen\"},\"id\":\"21831\",\"type\":\"BoxAnnotation\"},{\"attributes\":{\"fill_color\":{\"value\":\"#fc4f30\"},\"line_color\":{\"value\":\"#fc4f30\"},\"size\":{\"value\":5.477225575051661},\"x\":{\"field\":\"date\"},\"y\":{\"field\":\"Sale Price\"}},\"id\":\"21884\",\"type\":\"Scatter\"},{\"attributes\":{\"fill_alpha\":{\"value\":0.1},\"fill_color\":{\"value\":\"#fc4f30\"},\"line_alpha\":{\"value\":0.1},\"line_color\":{\"value\":\"#fc4f30\"},\"size\":{\"value\":5.477225575051661},\"x\":{\"field\":\"date\"},\"y\":{\"field\":\"Sale Price\"}},\"id\":\"21885\",\"type\":\"Scatter\"},{\"attributes\":{\"angle\":{\"value\":0.0},\"fill_alpha\":{\"value\":1.0},\"fill_color\":{\"value\":\"#30a2da\"},\"hatch_alpha\":{\"value\":1.0},\"hatch_color\":{\"value\":\"black\"},\"hatch_scale\":{\"value\":12.0},\"hatch_weight\":{\"value\":1.0},\"line_alpha\":{\"value\":1.0},\"line_cap\":{\"value\":\"butt\"},\"line_color\":{\"value\":\"#30a2da\"},\"line_dash\":{\"value\":[]},\"line_dash_offset\":{\"value\":0},\"line_join\":{\"value\":\"bevel\"},\"line_width\":{\"value\":1},\"marker\":{\"value\":\"circle\"},\"size\":{\"value\":5.477225575051661},\"x\":{\"field\":\"date\"},\"y\":{\"field\":\"Listing Price\"}},\"id\":\"21880\",\"type\":\"Scatter\"},{\"attributes\":{\"fill_alpha\":{\"value\":0.2},\"fill_color\":{\"value\":\"#fc4f30\"},\"line_alpha\":{\"value\":0.2},\"line_color\":{\"value\":\"#fc4f30\"},\"size\":{\"value\":5.477225575051661},\"x\":{\"field\":\"date\"},\"y\":{\"field\":\"Sale Price\"}},\"id\":\"21886\",\"type\":\"Scatter\"},{\"attributes\":{\"margin\":[20,20,20,20],\"min_width\":250,\"options\":[\"Chicago\",\"Minneapolis\",\"Kansas City\",\"Toledo\",\"Denver\",\"Oklahoma City\",\"Madison\",\"Des Moines\"],\"title\":\"Region\",\"value\":\"Chicago\",\"width\":250},\"id\":\"22131\",\"type\":\"Select\"},{\"attributes\":{\"mantissas\":[1,2,5],\"max_interval\":500.0,\"num_minor_ticks\":0},\"id\":\"21863\",\"type\":\"AdaptiveTicker\"},{\"attributes\":{\"base\":60,\"mantissas\":[1,2,5,10,15,20,30],\"max_interval\":1800000.0,\"min_interval\":1000.0,\"num_minor_ticks\":0},\"id\":\"21864\",\"type\":\"AdaptiveTicker\"},{\"attributes\":{\"days\":[1,2,3,4,5,6,7,8,9,10,11,12,13,14,15,16,17,18,19,20,21,22,23,24,25,26,27,28,29,30,31]},\"id\":\"21866\",\"type\":\"DaysTicker\"},{\"attributes\":{\"data_source\":{\"id\":\"21881\"},\"glyph\":{\"id\":\"21884\"},\"hover_glyph\":null,\"muted_glyph\":{\"id\":\"21886\"},\"nonselection_glyph\":{\"id\":\"21885\"},\"selection_glyph\":{\"id\":\"21913\"},\"view\":{\"id\":\"21888\"}},\"id\":\"21887\",\"type\":\"GlyphRenderer\"},{\"attributes\":{\"base\":24,\"mantissas\":[1,2,4,6,8,12],\"max_interval\":43200000.0,\"min_interval\":3600000.0,\"num_minor_ticks\":0},\"id\":\"21865\",\"type\":\"AdaptiveTicker\"},{\"attributes\":{\"months\":[0,1,2,3,4,5,6,7,8,9,10,11]},\"id\":\"21870\",\"type\":\"MonthsTicker\"},{\"attributes\":{\"days\":[1,8,15,22]},\"id\":\"21868\",\"type\":\"DaysTicker\"},{\"attributes\":{\"days\":[1,4,7,10,13,16,19,22,25,28]},\"id\":\"21867\",\"type\":\"DaysTicker\"},{\"attributes\":{\"days\":[1,15]},\"id\":\"21869\",\"type\":\"DaysTicker\"}],\"root_ids\":[\"21803\",\"22202\"]},\"title\":\"Bokeh Application\",\"version\":\"2.3.3\"}};\n",
       "    var render_items = [{\"docid\":\"0b8a5b0a-9f39-4790-b14f-931245dabf7d\",\"root_ids\":[\"21803\"],\"roots\":{\"21803\":\"74e65cbf-e39c-4c7e-baf4-8e289de32bdc\"}}];\n",
       "    root.Bokeh.embed.embed_items_notebook(docs_json, render_items);\n",
       "  }\n",
       "  if (root.Bokeh !== undefined && root.Bokeh.Panel !== undefined) {\n",
       "    embed_document(root);\n",
       "  } else {\n",
       "    var attempts = 0;\n",
       "    var timer = setInterval(function(root) {\n",
       "      if (root.Bokeh !== undefined && root.Bokeh.Panel !== undefined) {\n",
       "        clearInterval(timer);\n",
       "        embed_document(root);\n",
       "      } else if (document.readyState == \"complete\") {\n",
       "        attempts++;\n",
       "        if (attempts > 200) {\n",
       "          clearInterval(timer);\n",
       "          console.log(\"Bokeh: ERROR: Unable to run BokehJS code because BokehJS library is missing\");\n",
       "        }\n",
       "      }\n",
       "    }, 25, root)\n",
       "  }\n",
       "})(window);</script>"
      ],
      "text/plain": [
       ":DynamicMap   [Region]\n",
       "   :Overlay\n",
       "      .Scatter.Median_List_Price :Scatter   [date]   (Listing Price)\n",
       "      .Scatter.Median_Sale_Price :Scatter   [date]   (Sale Price)"
      ]
     },
     "execution_count": 184,
     "metadata": {
      "application/vnd.holoviews_exec.v0+json": {
       "id": "21803"
      }
     },
     "output_type": "execute_result"
    }
   ],
   "source": [
    "sale_price_plot = df_sale_price.hvplot.scatter(x='date', y='Sale Price', label=\"Median Sale Price\", groupby='Region', rot=90).opts(yformatter=\"%.0f\")\n",
    "list_price_plot = df_list_price.hvplot.scatter(x='date', y='Listing Price',label='Median List Price',groupby='Region',rot=90).opts(yformatter=\"%.0f\")\n",
    "\n",
    "list_price_plot * sale_price_plot\n"
   ]
  },
  {
   "cell_type": "markdown",
   "metadata": {},
   "source": [
    "# What does the data tell us?"
   ]
  },
  {
   "cell_type": "markdown",
   "metadata": {},
   "source": [
    "Looking at the ploy above, we can see that on average, houses on Zillow do not sell near their list price. This could be due to Zillow's (Now former) market strategy of purchasing a house, pricing it exponentially higher than market value hoping a potential purchaser will bite, and lowering the price continually until it sells(per (Investopedia)|(https://www.investopedia.com/articles/personal-finance/110615/why-zillow-free-and-how-it-makes-money.asp). This means that potential buyers are getting a deal on property. The only time we see that the gap between the sale price and list price is in Toledo. Potential buyers are still getting a deal, however the deals there are not always that great when compared to Minneapolis or Chicago where the gap between Sale Price and List price is consistently higher than the other states."
   ]
  },
  {
   "cell_type": "code",
   "execution_count": null,
   "metadata": {},
   "outputs": [],
   "source": []
  }
 ],
 "metadata": {
  "interpreter": {
   "hash": "40d3a090f54c6569ab1632332b64b2c03c39dcf918b08424e98f38b5ae0af88f"
  },
  "kernelspec": {
   "display_name": "Python 3 (ipykernel)",
   "language": "python",
   "name": "python3"
  },
  "language_info": {
   "codemirror_mode": {
    "name": "ipython",
    "version": 3
   },
   "file_extension": ".py",
   "mimetype": "text/x-python",
   "name": "python",
   "nbconvert_exporter": "python",
   "pygments_lexer": "ipython3",
   "version": "3.8.8"
  }
 },
 "nbformat": 4,
 "nbformat_minor": 2
}
