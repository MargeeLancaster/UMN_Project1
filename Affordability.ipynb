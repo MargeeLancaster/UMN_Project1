{
 "cells": [
  {
   "cell_type": "markdown",
   "id": "b46db148",
   "metadata": {},
   "source": [
    "## Part 2 Compare Housing Affordability per Market"
   ]
  },
  {
   "cell_type": "code",
   "execution_count": 132,
   "id": "0856754b",
   "metadata": {},
   "outputs": [],
   "source": [
    "# Initial Imports\n",
    "\n",
    "import panel as pn\n",
    "pn.extension('plotly')\n",
    "import plotly.express as px\n",
    "import pandas as pd\n",
    "import hvplot.pandas\n",
    "import matplotlib.pyplot as plt\n",
    "import numpy as np\n",
    "import os\n",
    "from pathlib import Path\n",
    "from dotenv import load_dotenv\n",
    "import functools\n",
    "from functools import reduce\n",
    "from datetime import datetime as dt\n",
    "from decimal import *\n",
    "\n",
    "import warnings\n",
    "warnings.filterwarnings('ignore')"
   ]
  },
  {
   "cell_type": "code",
   "execution_count": 133,
   "id": "0a3afaf4",
   "metadata": {},
   "outputs": [],
   "source": [
    "# Load .env enviroment variables\n",
    "load_dotenv()\n",
    "pd.set_option('precision', 0)"
   ]
  },
  {
   "cell_type": "markdown",
   "id": "48f2af49",
   "metadata": {},
   "source": [
    "## Load Data\n",
    "\n",
    "Read the Sale Price data and clean the data"
   ]
  },
  {
   "cell_type": "code",
   "execution_count": 134,
   "id": "85371885",
   "metadata": {},
   "outputs": [],
   "source": [
    "# Reading Sale Price and Medain Family income For Chicago csv\n",
    "chicago_sale_csv = \"Data/Chicago_Median_Sale_Price.csv\"\n",
    "chicago_sale = pd.read_csv(chicago_sale_csv, infer_datetime_format = True, parse_dates = True)\n",
    "chicago_sale.sort_index(ascending = True, inplace = True)"
   ]
  },
  {
   "cell_type": "code",
   "execution_count": 135,
   "id": "d4f9a23b",
   "metadata": {},
   "outputs": [],
   "source": [
    "# Delete Columns None & metro_area\n",
    "chicago_sale.drop(['None', 'metro_area'], axis=1, inplace=True)\n",
    "\n",
    "# rename column\n",
    "chicago_sale.rename(columns ={'value': 'Chicago'},inplace=True)\n",
    "\n",
    "#converting date data-type\n",
    "chicago_sale['date'] = pd.to_datetime(chicago_sale.date)"
   ]
  },
  {
   "cell_type": "code",
   "execution_count": 136,
   "id": "08da5d2a",
   "metadata": {},
   "outputs": [],
   "source": [
    "# Reading Sale Price and Medain Family income For Denver csv\n",
    "denver_sale_csv = \"Data/Denver_Median_Sale_Price.csv\"\n",
    "denver_sale = pd.read_csv(denver_sale_csv, infer_datetime_format = True, parse_dates = True)\n",
    "denver_sale.sort_index(ascending = True, inplace = True)"
   ]
  },
  {
   "cell_type": "code",
   "execution_count": 137,
   "id": "d7a7ce9c",
   "metadata": {},
   "outputs": [],
   "source": [
    "# Delete Columns None & metro_area\n",
    "denver_sale.drop(['None', 'metro_area'], axis=1, inplace=True)\n",
    "\n",
    "# rename column\n",
    "denver_sale.rename(columns ={'value': 'Denver'},inplace=True)\n",
    "\n",
    "#converting date data-type\n",
    "denver_sale['date'] = pd.to_datetime(denver_sale.date)"
   ]
  },
  {
   "cell_type": "code",
   "execution_count": 139,
   "id": "b65d36ed",
   "metadata": {},
   "outputs": [],
   "source": [
    "# Reading Sale Price and Medain Family income For Des Moines csv\n",
    "des_moines_sale_csv = \"Data/Des Moines_Median_Sale_Price.csv\"\n",
    "des_moines_sale = pd.read_csv(des_moines_sale_csv, infer_datetime_format = True, parse_dates = True)\n",
    "des_moines_sale.sort_index(ascending = True, inplace = True)"
   ]
  },
  {
   "cell_type": "code",
   "execution_count": 140,
   "id": "e421eadf",
   "metadata": {},
   "outputs": [],
   "source": [
    "# Delete Columns None & metro_area\n",
    "des_moines_sale.drop(['None', 'metro_area'], axis=1, inplace=True)\n",
    "\n",
    "# rename column\n",
    "des_moines_sale.rename(columns ={'value': 'Des Moines'},inplace=True)\n",
    "\n",
    "#converting date data-type\n",
    "des_moines_sale['date'] = pd.to_datetime(des_moines_sale.date)"
   ]
  },
  {
   "cell_type": "code",
   "execution_count": 141,
   "id": "3e780e8c",
   "metadata": {},
   "outputs": [],
   "source": [
    "# Reading Sale Price and Medain Family income For Kansas City csv\n",
    "kansas_city_sale_csv = \"Data/Kansas City_Median_Sale_Price.csv\"\n",
    "kansas_city_sale = pd.read_csv(kansas_city_sale_csv, infer_datetime_format = True, parse_dates = True)\n",
    "kansas_city_sale.sort_index(ascending = True, inplace = True)"
   ]
  },
  {
   "cell_type": "code",
   "execution_count": 142,
   "id": "bcb9a8fc",
   "metadata": {},
   "outputs": [],
   "source": [
    "# Delete Columns None & metro_area\n",
    "kansas_city_sale.drop(['None', 'metro_area'], axis=1, inplace=True)\n",
    "\n",
    "# rename column\n",
    "kansas_city_sale.rename(columns ={'value': 'Kansas City'},inplace=True)\n",
    "\n",
    "#converting date data-type\n",
    "kansas_city_sale['date'] = pd.to_datetime(kansas_city_sale.date)"
   ]
  },
  {
   "cell_type": "code",
   "execution_count": 143,
   "id": "8f937cba",
   "metadata": {},
   "outputs": [],
   "source": [
    "# Reading Sale Price and Medain Family income For Madison csv\n",
    "madison_sale_csv = \"Data/Madison_Median_Sale_Price.csv\"\n",
    "madison_sale = pd.read_csv(madison_sale_csv, infer_datetime_format = True, parse_dates = True)\n",
    "madison_sale.sort_index(ascending = True, inplace = True)"
   ]
  },
  {
   "cell_type": "code",
   "execution_count": 144,
   "id": "ac062c92",
   "metadata": {},
   "outputs": [],
   "source": [
    "# Delete Columns None & metro_area\n",
    "madison_sale.drop(['None', 'metro_area'], axis=1, inplace=True)\n",
    "\n",
    "# rename column\n",
    "madison_sale.rename(columns ={'value': 'Madison'},inplace=True)\n",
    "\n",
    "#converting date data-type\n",
    "madison_sale['date'] = pd.to_datetime(madison_sale.date)"
   ]
  },
  {
   "cell_type": "code",
   "execution_count": 145,
   "id": "63553447",
   "metadata": {},
   "outputs": [],
   "source": [
    "# Reading Sale Price and Medain Family income For Minneapolis csv\n",
    "minneapolis_sale_csv = \"Data/Minneapolis_Median_Sale_Price.csv\"\n",
    "minneapolis_sale = pd.read_csv(minneapolis_sale_csv, infer_datetime_format = True, parse_dates = True)\n",
    "minneapolis_sale.sort_index(ascending = True, inplace = True)"
   ]
  },
  {
   "cell_type": "code",
   "execution_count": 146,
   "id": "e3467ea7",
   "metadata": {},
   "outputs": [],
   "source": [
    "# Delete Columns None & metro_area\n",
    "minneapolis_sale.drop(['None', 'metro_area'], axis=1, inplace=True)\n",
    "\n",
    "# rename column\n",
    "minneapolis_sale.rename(columns ={'value': 'Minneapolis'},inplace=True)\n",
    "\n",
    "#converting date data-type\n",
    "minneapolis_sale['date'] = pd.to_datetime(minneapolis_sale.date)"
   ]
  },
  {
   "cell_type": "code",
   "execution_count": 147,
   "id": "71154c83",
   "metadata": {},
   "outputs": [],
   "source": [
    "# Reading Sale Price and Medain Family income For Oklahoma City csv\n",
    "oklahoma_city_sale_csv = \"Data/Oklahoma City_Median_Sale_Price.csv\"\n",
    "oklahoma_city_sale = pd.read_csv(oklahoma_city_sale_csv, infer_datetime_format = True, parse_dates = True)\n",
    "oklahoma_city_sale.sort_index(ascending = True, inplace = True)"
   ]
  },
  {
   "cell_type": "code",
   "execution_count": 148,
   "id": "4b80a5ed",
   "metadata": {},
   "outputs": [],
   "source": [
    "# Delete Columns None & metro_area\n",
    "oklahoma_city_sale.drop(['None', 'metro_area'], axis=1, inplace=True)\n",
    "\n",
    "# rename column\n",
    "oklahoma_city_sale.rename(columns ={'value': 'Oklahoma City'},inplace=True)\n",
    "\n",
    "#converting date data-type\n",
    "oklahoma_city_sale['date'] = pd.to_datetime(oklahoma_city_sale.date)"
   ]
  },
  {
   "cell_type": "code",
   "execution_count": 149,
   "id": "5dbed793",
   "metadata": {},
   "outputs": [],
   "source": [
    "# Reading Sale Price and Medain Family income For Toledo csv\n",
    "toledo_sale_csv = \"Data/Toledo_Median_Sale_Price.csv\"\n",
    "toledo_sale = pd.read_csv(toledo_sale_csv, infer_datetime_format = True, parse_dates = True)\n",
    "toledo_sale.sort_index(ascending = True, inplace = True)"
   ]
  },
  {
   "cell_type": "code",
   "execution_count": 150,
   "id": "5dde4f68",
   "metadata": {},
   "outputs": [],
   "source": [
    "# Delete Columns None & metro_area\n",
    "toledo_sale.drop(['None', \"metro_area\"], axis=1, inplace=True)\n",
    "\n",
    "# rename column\n",
    "toledo_sale.rename(columns ={'value': 'Toledo'},inplace=True)\n",
    "\n",
    "#converting date data-type\n",
    "toledo_sale['date'] = pd.to_datetime(toledo_sale.date)"
   ]
  },
  {
   "cell_type": "markdown",
   "id": "bc5f5d04",
   "metadata": {},
   "source": [
    "## Combine Chicago, Denver, Des Moines, Kansas City, Madison, Minneapolis, Oklahoma City and Toledo"
   ]
  },
  {
   "cell_type": "code",
   "execution_count": 151,
   "id": "97222d3e",
   "metadata": {},
   "outputs": [
    {
     "data": {
      "text/html": [
       "<div>\n",
       "<style scoped>\n",
       "    .dataframe tbody tr th:only-of-type {\n",
       "        vertical-align: middle;\n",
       "    }\n",
       "\n",
       "    .dataframe tbody tr th {\n",
       "        vertical-align: top;\n",
       "    }\n",
       "\n",
       "    .dataframe thead th {\n",
       "        text-align: right;\n",
       "    }\n",
       "</style>\n",
       "<table border=\"1\" class=\"dataframe\">\n",
       "  <thead>\n",
       "    <tr style=\"text-align: right;\">\n",
       "      <th></th>\n",
       "      <th>date</th>\n",
       "      <th>Chicago</th>\n",
       "      <th>Denver</th>\n",
       "      <th>Des Moines</th>\n",
       "      <th>Kansas City</th>\n",
       "      <th>Madison</th>\n",
       "      <th>Minneapolis</th>\n",
       "      <th>Oklahoma City</th>\n",
       "      <th>Toledo</th>\n",
       "    </tr>\n",
       "  </thead>\n",
       "  <tbody>\n",
       "    <tr>\n",
       "      <th>0</th>\n",
       "      <td>2021-06-30</td>\n",
       "      <td>300000</td>\n",
       "      <td>550000</td>\n",
       "      <td>255000</td>\n",
       "      <td>280000</td>\n",
       "      <td>347000</td>\n",
       "      <td>350000</td>\n",
       "      <td>225000</td>\n",
       "      <td>155300</td>\n",
       "    </tr>\n",
       "    <tr>\n",
       "      <th>1</th>\n",
       "      <td>2021-05-31</td>\n",
       "      <td>295000</td>\n",
       "      <td>540000</td>\n",
       "      <td>245000</td>\n",
       "      <td>281000</td>\n",
       "      <td>325000</td>\n",
       "      <td>339400</td>\n",
       "      <td>219000</td>\n",
       "      <td>140750</td>\n",
       "    </tr>\n",
       "    <tr>\n",
       "      <th>2</th>\n",
       "      <td>2021-04-30</td>\n",
       "      <td>280000</td>\n",
       "      <td>525500</td>\n",
       "      <td>249000</td>\n",
       "      <td>268000</td>\n",
       "      <td>315500</td>\n",
       "      <td>337000</td>\n",
       "      <td>213500</td>\n",
       "      <td>146000</td>\n",
       "    </tr>\n",
       "    <tr>\n",
       "      <th>3</th>\n",
       "      <td>2021-03-31</td>\n",
       "      <td>269000</td>\n",
       "      <td>505650</td>\n",
       "      <td>234300</td>\n",
       "      <td>257000</td>\n",
       "      <td>330000</td>\n",
       "      <td>322500</td>\n",
       "      <td>212000</td>\n",
       "      <td>148500</td>\n",
       "    </tr>\n",
       "    <tr>\n",
       "      <th>4</th>\n",
       "      <td>2021-02-28</td>\n",
       "      <td>255000</td>\n",
       "      <td>475000</td>\n",
       "      <td>229773</td>\n",
       "      <td>250000</td>\n",
       "      <td>289000</td>\n",
       "      <td>308900</td>\n",
       "      <td>210000</td>\n",
       "      <td>132450</td>\n",
       "    </tr>\n",
       "  </tbody>\n",
       "</table>\n",
       "</div>"
      ],
      "text/plain": [
       "        date  Chicago  Denver  Des Moines  Kansas City  Madison  Minneapolis  \\\n",
       "0 2021-06-30   300000  550000      255000       280000   347000       350000   \n",
       "1 2021-05-31   295000  540000      245000       281000   325000       339400   \n",
       "2 2021-04-30   280000  525500      249000       268000   315500       337000   \n",
       "3 2021-03-31   269000  505650      234300       257000   330000       322500   \n",
       "4 2021-02-28   255000  475000      229773       250000   289000       308900   \n",
       "\n",
       "   Oklahoma City  Toledo  \n",
       "0         225000  155300  \n",
       "1         219000  140750  \n",
       "2         213500  146000  \n",
       "3         212000  148500  \n",
       "4         210000  132450  "
      ]
     },
     "execution_count": 151,
     "metadata": {},
     "output_type": "execute_result"
    }
   ],
   "source": [
    "# Join all Metro Areas into a single DataFrame with columns for each City\n",
    "combined_sale = [chicago_sale, denver_sale, des_moines_sale, kansas_city_sale, madison_sale, \n",
    "                 minneapolis_sale, oklahoma_city_sale, toledo_sale]\n",
    "combined_final = functools.reduce(lambda left,right: pd.merge(left,right, on='date'), combined_sale)\n",
    "combined_final.head()"
   ]
  },
  {
   "cell_type": "code",
   "execution_count": 152,
   "id": "2e1bc151",
   "metadata": {},
   "outputs": [
    {
     "data": {
      "image/png": "[encoded data removed]",
      "text/plain": [
       "<Figure size 720x360 with 1 Axes>"
      ]
     },
     "metadata": {
      "needs_background": "light"
     },
     "output_type": "display_data"
    }
   ],
   "source": [
    "# Create line Chart to reflect average increase in sale price for each City\n",
    "sales_price = combined_final.plot.line(x='date', title=\"Average Sales Price\", figsize=(10,5))"
   ]
  },
  {
   "cell_type": "markdown",
   "id": "a37adf46",
   "metadata": {},
   "source": [
    "## Average Sale Price for Cities by date"
   ]
  },
  {
   "cell_type": "code",
   "execution_count": 160,
   "id": "ebcad1c5",
   "metadata": {},
   "outputs": [],
   "source": [
    "# Create new data frame to group by date and metro_area \n",
    "chicago_sales = pd.read_table(\"Data/Chicago_Median_Sale_Price.csv\", sep=',')\n",
    "denver_sales = pd.read_table(\"Data/Denver_Median_Sale_Price.csv\", sep=',')\n",
    "des_moines_sales = pd.read_table(\"Data/Des Moines_Median_Sale_Price.csv\", sep=',')\n",
    "kansas_city_sales = pd.read_table(\"Data/Kansas City_Median_Sale_Price.csv\", sep=',')\n",
    "madison_sales = pd.read_table(\"Data/Madison_Median_Sale_Price.csv\", sep=',')\n",
    "minneapolis_sales = pd.read_table(\"Data/Minneapolis_Median_Sale_Price.csv\", sep=',')\n",
    "oklahoma_city_sales = pd.read_table(\"Data/Oklahoma City_Median_Sale_Price.csv\", sep=',')\n",
    "toledo_sales = pd.read_table(\"Data/Toledo_Median_Sale_Price.csv\", sep=',')\n",
    "\n",
    "combined_sales = pd.concat([chicago_sales, denver_sales, des_moines_sales, kansas_city_sales, \n",
    "                  madison_sales, minneapolis_sales, oklahoma_city_sales, toledo_sales]) \n",
    "combined_sales.sort_index(ascending = False, inplace = True)\n",
    "combined_sales.drop(['None'], axis=1, inplace=True)\n",
    "combined_sales['value'] = combined_sales.value.astype(int)\n",
    "combined_sales['date'] = pd.to_datetime(combined_sales.date)"
   ]
  },
  {
   "cell_type": "code",
   "execution_count": 161,
   "id": "1993838b",
   "metadata": {},
   "outputs": [
    {
     "data": {},
     "metadata": {},
     "output_type": "display_data"
    },
    {
     "data": {
      "application/vnd.holoviews_exec.v0+json": "",
      "text/html": [
       "<div id='3448'>\n",
       "\n",
       "\n",
       "\n",
       "\n",
       "\n",
       "  <div class=\"bk-root\" id=\"96145077-9192-40f8-b567-fa1e29288d1f\" data-root-id=\"3448\"></div>\n",
       "</div>\n",
       "<script type=\"application/javascript\">(function(root) {\n",
       "  function embed_document(root) {\n",
       "    var docs_json = {\"2490dde3-f8b0-42b4-8333-efdb3059c97e\":{\"defs\":[{\"extends\":null,\"module\":null,\"name\":\"ReactiveHTML1\",\"overrides\":[],\"properties\":[]},{\"extends\":null,\"module\":null,\"name\":\"FlexBox1\",\"overrides\":[],\"properties\":[{\"default\":\"flex-start\",\"kind\":null,\"name\":\"align_content\"},{\"default\":\"flex-start\",\"kind\":null,\"name\":\"align_items\"},{\"default\":\"row\",\"kind\":null,\"name\":\"flex_direction\"},{\"default\":\"wrap\",\"kind\":null,\"name\":\"flex_wrap\"},{\"default\":\"flex-start\",\"kind\":null,\"name\":\"justify_content\"}]},{\"extends\":null,\"module\":null,\"name\":\"TemplateActions1\",\"overrides\":[],\"properties\":[{\"default\":0,\"kind\":null,\"name\":\"open_modal\"},{\"default\":0,\"kind\":null,\"name\":\"close_modal\"}]},{\"extends\":null,\"module\":null,\"name\":\"MaterialTemplateActions1\",\"overrides\":[],\"properties\":[{\"default\":0,\"kind\":null,\"name\":\"open_modal\"},{\"default\":0,\"kind\":null,\"name\":\"close_modal\"}]}],\"roots\":{\"references\":[{\"attributes\":{\"end\":162705.0,\"reset_end\":162705.0,\"reset_start\":73845.0,\"start\":73845.0,\"tags\":[[[\"value\",\"value\",null]]]},\"id\":\"3451\",\"type\":\"Range1d\"},{\"attributes\":{\"axis_label\":\"value\",\"formatter\":{\"id\":\"3492\"},\"major_label_policy\":{\"id\":\"3497\"},\"ticker\":{\"id\":\"3467\"}},\"id\":\"3466\",\"type\":\"LinearAxis\"},{\"attributes\":{\"margin\":[5,5,5,5],\"name\":\"HSpacer07208\",\"sizing_mode\":\"stretch_width\"},\"id\":\"3449\",\"type\":\"Spacer\"},{\"attributes\":{\"active_multi\":null,\"tools\":[{\"id\":\"3452\"},{\"id\":\"3470\"},{\"id\":\"3471\"},{\"id\":\"3472\"},{\"id\":\"3473\"},{\"id\":\"3474\"}]},\"id\":\"3476\",\"type\":\"Toolbar\"},{\"attributes\":{},\"id\":\"3467\",\"type\":\"BasicTicker\"},{\"attributes\":{\"margin\":[5,5,5,5],\"name\":\"VSpacer07205\",\"sizing_mode\":\"stretch_height\"},\"id\":\"3551\",\"type\":\"Spacer\"},{\"attributes\":{},\"id\":\"3494\",\"type\":\"AllLabels\"},{\"attributes\":{\"axis\":{\"id\":\"3466\"},\"dimension\":1,\"grid_line_color\":null,\"ticker\":null},\"id\":\"3469\",\"type\":\"Grid\"},{\"attributes\":{},\"id\":\"3484\",\"type\":\"Selection\"},{\"attributes\":{\"data_source\":{\"id\":\"3483\"},\"glyph\":{\"id\":\"3486\"},\"hover_glyph\":null,\"muted_glyph\":{\"id\":\"3488\"},\"nonselection_glyph\":{\"id\":\"3487\"},\"selection_glyph\":{\"id\":\"3491\"},\"view\":{\"id\":\"3490\"}},\"id\":\"3489\",\"type\":\"GlyphRenderer\"},{\"attributes\":{\"bottom_units\":\"screen\",\"fill_alpha\":0.5,\"fill_color\":\"lightgrey\",\"left_units\":\"screen\",\"level\":\"overlay\",\"line_alpha\":1.0,\"line_color\":\"black\",\"line_dash\":[4,4],\"line_width\":2,\"right_units\":\"screen\",\"syncable\":false,\"top_units\":\"screen\"},\"id\":\"3475\",\"type\":\"BoxAnnotation\"},{\"attributes\":{\"callback\":null,\"formatters\":{\"@{date}\":\"datetime\"},\"renderers\":[{\"id\":\"3489\"}],\"tags\":[\"hv_created\"],\"tooltips\":[[\"date\",\"@{date}{%F %T}\"],[\"value\",\"@{value}\"]]},\"id\":\"3452\",\"type\":\"HoverTool\"},{\"attributes\":{\"margin\":[5,5,5,5],\"name\":\"VSpacer07206\",\"sizing_mode\":\"stretch_height\"},\"id\":\"3554\",\"type\":\"Spacer\"},{\"attributes\":{\"margin\":[5,5,5,5],\"name\":\"HSpacer07209\",\"sizing_mode\":\"stretch_width\"},\"id\":\"3549\",\"type\":\"Spacer\"},{\"attributes\":{\"base\":60,\"mantissas\":[1,2,5,10,15,20,30],\"max_interval\":1800000.0,\"min_interval\":1000.0,\"num_minor_ticks\":0},\"id\":\"3515\",\"type\":\"AdaptiveTicker\"},{\"attributes\":{\"days\":[1,4,7,10,13,16,19,22,25,28]},\"id\":\"3518\",\"type\":\"DaysTicker\"},{\"attributes\":{\"children\":[{\"id\":\"3553\"}],\"css_classes\":[\"panel-widget-box\"],\"margin\":[5,5,5,5],\"name\":\"WidgetBox07200\"},\"id\":\"3552\",\"type\":\"Column\"},{\"attributes\":{},\"id\":\"3470\",\"type\":\"SaveTool\"},{\"attributes\":{\"source\":{\"id\":\"3483\"}},\"id\":\"3490\",\"type\":\"CDSView\"},{\"attributes\":{\"mantissas\":[1,2,5],\"max_interval\":500.0,\"num_minor_ticks\":0},\"id\":\"3514\",\"type\":\"AdaptiveTicker\"},{\"attributes\":{\"text\":\"Increase in Sale Price\",\"text_color\":\"black\",\"text_font_size\":\"12pt\"},\"id\":\"3454\",\"type\":\"Title\"},{\"attributes\":{\"months\":[0,1,2,3,4,5,6,7,8,9,10,11]},\"id\":\"3521\",\"type\":\"MonthsTicker\"},{\"attributes\":{\"margin\":[20,20,20,20],\"min_width\":250,\"options\":[\"Toledo\",\"Kansas City\",\"Oklahoma City\",\"Chicago\",\"Minneapolis\",\"Denver\",\"Madison\",\"Des Moines\"],\"title\":\"metro_area\",\"value\":\"Toledo\",\"width\":250},\"id\":\"3553\",\"type\":\"Select\"},{\"attributes\":{\"line_alpha\":0.1,\"line_color\":\"#30a2da\",\"line_width\":2,\"x\":{\"field\":\"date\"},\"y\":{\"field\":\"value\"}},\"id\":\"3487\",\"type\":\"Line\"},{\"attributes\":{\"line_color\":\"#30a2da\",\"line_width\":2,\"x\":{\"field\":\"date\"},\"y\":{\"field\":\"value\"}},\"id\":\"3491\",\"type\":\"Line\"},{\"attributes\":{\"days\":[1,2,3,4,5,6,7,8,9,10,11,12,13,14,15,16,17,18,19,20,21,22,23,24,25,26,27,28,29,30,31]},\"id\":\"3517\",\"type\":\"DaysTicker\"},{\"attributes\":{},\"id\":\"3497\",\"type\":\"AllLabels\"},{\"attributes\":{\"days\":[1,8,15,22]},\"id\":\"3519\",\"type\":\"DaysTicker\"},{\"attributes\":{},\"id\":\"3471\",\"type\":\"PanTool\"},{\"attributes\":{\"line_alpha\":0.2,\"line_color\":\"#30a2da\",\"line_width\":2,\"x\":{\"field\":\"date\"},\"y\":{\"field\":\"value\"}},\"id\":\"3488\",\"type\":\"Line\"},{\"attributes\":{},\"id\":\"3474\",\"type\":\"ResetTool\"},{\"attributes\":{\"format\":\"%d\"},\"id\":\"3492\",\"type\":\"PrintfTickFormatter\"},{\"attributes\":{\"line_color\":\"#30a2da\",\"line_width\":2,\"x\":{\"field\":\"date\"},\"y\":{\"field\":\"value\"}},\"id\":\"3486\",\"type\":\"Line\"},{\"attributes\":{},\"id\":\"3472\",\"type\":\"WheelZoomTool\"},{\"attributes\":{},\"id\":\"3495\",\"type\":\"DatetimeTickFormatter\"},{\"attributes\":{\"days\":[1,15]},\"id\":\"3520\",\"type\":\"DaysTicker\"},{\"attributes\":{\"end\":1625011200000.0,\"reset_end\":1625011200000.0,\"reset_start\":1204243200000.0,\"start\":1204243200000.0,\"tags\":[[[\"date\",\"date\",null]]]},\"id\":\"3450\",\"type\":\"Range1d\"},{\"attributes\":{\"overlay\":{\"id\":\"3475\"}},\"id\":\"3473\",\"type\":\"BoxZoomTool\"},{\"attributes\":{\"data\":{\"date\":{\"__ndarray__\":\"AACAzyeGcUIAAMAhIpBxQgAAQA7KmXFCAACAYMSjcUIAAABNbK1xQgAAQJ9mt3FCAACA8WDBcUIAAADeCMtxQgAAQDAD1XFCAADAHKvecUIAAABvpehxQgAAQMGf8nFCAABA4qL7cUIAAIA0nQVyQgAAACFFD3JCAABAcz8ZckIAAMBf5yJyQgAAALLhLHJCAABABNw2ckIAAMDwg0ByQgAAAEN+SnJCAACALyZUckIAAMCBIF5yQgAAANQaaHJCAAAA9R1xckIAAEBHGHtyQgAAwDPAhHJCAAAAhrqOckIAAIByYphyQgAAwMRconJCAAAAF1esckIAAIAD/7VyQgAAwFX5v3JCAABAQqHJckIAAICUm9NyQgAAwOaV3XJCAADAB5nmckIAAABak/ByQgAAgEY7+nJCAADAmDUEc0IAAECF3Q1zQgAAgNfXF3NCAADAKdIhc0IAAEAWeitzQgAAgGh0NXNCAAAAVRw/c0IAAECnFklzQgAAgPkQU3NCAABAgGZcc0IAAIDSYGZzQgAAAL8IcHNCAABAEQN6c0IAAMD9qoNzQgAAAFCljXNCAABAop+Xc0IAAMCOR6FzQgAAAOFBq3NCAACAzem0c0IAAMAf5L5zQgAAAHLeyHNCAAAAk+HRc0IAAEDl29tzQgAAwNGD5XNCAAAAJH7vc0IAAIAQJvlzQgAAwGIgA3RCAAAAtRoNdEIAAIChwhZ0QgAAwPO8IHRCAABA4GQqdEIAAIAyXzR0QgAAwIRZPnRCAADApVxHdEIAAAD4VlF0QgAAgOT+WnRCAADANvlkdEIAAEAjoW50QgAAgHWbeHRCAADAx5WCdEIAAEC0PYx0QgAAgAY4lnRCAAAA89+fdEIAAEBF2ql0QgAAgJfUs3RCAACAuNe8dEIAAMAK0sZ0QgAAQPd50HRCAACASXTadEIAAAA2HOR0QgAAQIgW7nRCAACA2hD4dEIAAADHuAF1QgAAQBmzC3VCAADABVsVdUIAAABYVR91QgAAQKpPKXVCAAAAMaUydUIAAECDnzx1QgAAwG9HRnVCAAAAwkFQdUIAAICu6Vl1QgAAwADkY3VCAAAAU95tdUIAAIA/hnd1QgAAwJGAgXVCAABAfiiLdUIAAIDQIpV1QgAAwCIdn3VCAADAQyCodUIAAACWGrJ1QgAAgILCu3VCAADA1LzFdUIAAEDBZM91QgAAgBNf2XVCAADAZVnjdUIAAEBSAe11QgAAgKT79nVCAAAAkaMAdkIAAEDjnQp2QgAAgDWYFHZCAACAVpsddkIAAMColSd2QgAAQJU9MXZCAACA5zc7dkIAAADU30R2QgAAQCbaTnZCAACAeNRYdkIAAABlfGJ2QgAAQLd2bHZCAADAox52dkIAAAD2GIB2QgAAQEgTinZCAABAaRaTdkIAAIC7EJ12QgAAAKi4pnZCAABA+rKwdkIAAMDmWrp2QgAAADlVxHZCAABAi0/OdkIAAMB399d2QgAAAMrx4XZCAACAtpnrdkIAAMAIlPV2QgAAAFuO/3ZCAADA4eMId0IAAAA03hJ3QgAAgCCGHHdCAADAcoAmd0IAAEBfKDB3QgAAgLEiOndCAADAAx1Ed0IAAEDwxE13QgAAgEK/V3dCAAAAL2dhd0IAAECBYWt3QgAAgNNbdXdCAACA9F5+d0IAAMBGWYh3QgAAQDMBkndCAACAhfubd0IAAAByo6V3Qg==\",\"dtype\":\"float64\",\"order\":\"little\",\"shape\":[161]},\"value\":{\"__ndarray__\":\"UL0BALyrAQC+/gEAcuEBAFrlAQDyuwEAVOYBAFTNAQAOlgEAfIwBALiCAQAEoAEA8MwBAKzPAQDIqQEA3JUBAAjJAQA4wQEAwNQBAMahAQBqjwEAoIYBAB5yAQDQfgEA5IMBAGWEAQCkrwEAKJoBAAjJAQCghgEAyKkBAEyUAQDwzAEA4nsBACiaAQAomgEA6HoBAPiIAQCghgEAwNQBAGigAQDEgAEAjZ4BALCtAQA8hgEAAHcBAMipAQCghgEAsK0BAKaFAQDueQEAmLEBAITeAQCAtQEAjokBAMCiAQBouQEA+KEBAOZyAQAcnAEAGHMBAPihAQDQfgEAlNMBAMDUAQAGwQEAyMIBAJSIAQCQXwEAlqkBAKCGAQDiewEAREIBAGI9AQDcfAEAKJoBAFy7AQAgxQEAwNQBAEytAQAQngEAKJoBAEyUAQDAVwEAMpABALCtAQAomgEAeOABAMzSAQDk5wEAnKgBAOjFAQA4wQEA3p0BACDFAQCghgEA4KUBALCtAQDkzgEA/MoBAOTOAQBE2AEAUL0BADG+AQAUxwEAdLcBAFC9AQA4wQEATK0BACiaAQDY0AEAwvUBANz5AQAe7wEAGPABANjQAQDwzAEAsK0BAIC1AQC6igEAlqkBAEzGAQCo2AEAAPQBAFgPAgBYDwIASOgBABAbAgB8vgEAndQBALzEAQBMxgEAFMcBAJDcAQAW6AEAJg8CAKADAgBYDwIAoAMCALAqAgBa5QEAuP8BAND7AQDS0QEAVP8BAKADAgC4/wEAdDQCACgXAgA2NgIA6BACAGg2AgD4HgIAqScCAPZIAgCAMgIAYgUCABREAgBQOgIAziUCAKReAgA=\",\"dtype\":\"int32\",\"order\":\"little\",\"shape\":[161]}},\"selected\":{\"id\":\"3484\"},\"selection_policy\":{\"id\":\"3526\"}},\"id\":\"3483\",\"type\":\"ColumnDataSource\"},{\"attributes\":{\"months\":[0,2,4,6,8,10]},\"id\":\"3522\",\"type\":\"MonthsTicker\"},{\"attributes\":{\"base\":24,\"mantissas\":[1,2,4,6,8,12],\"max_interval\":43200000.0,\"min_interval\":3600000.0,\"num_minor_ticks\":0},\"id\":\"3516\",\"type\":\"AdaptiveTicker\"},{\"attributes\":{\"client_comm_id\":\"6c102dda04b0402fb2a1530cb361f86a\",\"comm_id\":\"17adcd47fcbb4b73a0b0c595a1989abe\",\"plot_id\":\"3448\"},\"id\":\"3618\",\"type\":\"panel.models.comm_manager.CommManager\"},{\"attributes\":{\"axis\":{\"id\":\"3462\"},\"grid_line_color\":null,\"ticker\":null},\"id\":\"3465\",\"type\":\"Grid\"},{\"attributes\":{\"months\":[0,4,8]},\"id\":\"3523\",\"type\":\"MonthsTicker\"},{\"attributes\":{},\"id\":\"3458\",\"type\":\"LinearScale\"},{\"attributes\":{\"num_minor_ticks\":5,\"tickers\":[{\"id\":\"3514\"},{\"id\":\"3515\"},{\"id\":\"3516\"},{\"id\":\"3517\"},{\"id\":\"3518\"},{\"id\":\"3519\"},{\"id\":\"3520\"},{\"id\":\"3521\"},{\"id\":\"3522\"},{\"id\":\"3523\"},{\"id\":\"3524\"},{\"id\":\"3525\"}]},\"id\":\"3463\",\"type\":\"DatetimeTicker\"},{\"attributes\":{\"months\":[0,6]},\"id\":\"3524\",\"type\":\"MonthsTicker\"},{\"attributes\":{\"below\":[{\"id\":\"3462\"}],\"center\":[{\"id\":\"3465\"},{\"id\":\"3469\"}],\"height\":300,\"left\":[{\"id\":\"3466\"}],\"margin\":[5,5,5,5],\"min_border_bottom\":10,\"min_border_left\":10,\"min_border_right\":10,\"min_border_top\":10,\"renderers\":[{\"id\":\"3489\"}],\"sizing_mode\":\"fixed\",\"title\":{\"id\":\"3454\"},\"toolbar\":{\"id\":\"3476\"},\"width\":700,\"x_range\":{\"id\":\"3450\"},\"x_scale\":{\"id\":\"3458\"},\"y_range\":{\"id\":\"3451\"},\"y_scale\":{\"id\":\"3460\"}},\"id\":\"3453\",\"subtype\":\"Figure\",\"type\":\"Plot\"},{\"attributes\":{\"axis_label\":\"date\",\"formatter\":{\"id\":\"3495\"},\"major_label_policy\":{\"id\":\"3494\"},\"ticker\":{\"id\":\"3463\"}},\"id\":\"3462\",\"type\":\"DatetimeAxis\"},{\"attributes\":{\"children\":[{\"id\":\"3449\"},{\"id\":\"3453\"},{\"id\":\"3549\"},{\"id\":\"3550\"}],\"margin\":[0,0,0,0],\"name\":\"Row07199\"},\"id\":\"3448\",\"type\":\"Row\"},{\"attributes\":{\"children\":[{\"id\":\"3551\"},{\"id\":\"3552\"},{\"id\":\"3554\"}],\"margin\":[0,0,0,0],\"name\":\"Column07207\"},\"id\":\"3550\",\"type\":\"Column\"},{\"attributes\":{},\"id\":\"3460\",\"type\":\"LinearScale\"},{\"attributes\":{},\"id\":\"3525\",\"type\":\"YearsTicker\"},{\"attributes\":{},\"id\":\"3526\",\"type\":\"UnionRenderers\"}],\"root_ids\":[\"3448\",\"3618\"]},\"title\":\"Bokeh Application\",\"version\":\"2.3.2\"}};\n",
       "    var render_items = [{\"docid\":\"2490dde3-f8b0-42b4-8333-efdb3059c97e\",\"root_ids\":[\"3448\"],\"roots\":{\"3448\":\"96145077-9192-40f8-b567-fa1e29288d1f\"}}];\n",
       "    root.Bokeh.embed.embed_items_notebook(docs_json, render_items);\n",
       "  }\n",
       "  if (root.Bokeh !== undefined && root.Bokeh.Panel !== undefined && ( root['Plotly'] !== undefined)) {\n",
       "    embed_document(root);\n",
       "  } else {\n",
       "    var attempts = 0;\n",
       "    var timer = setInterval(function(root) {\n",
       "      if (root.Bokeh !== undefined && root.Bokeh.Panel !== undefined && (root['Plotly'] !== undefined)) {\n",
       "        clearInterval(timer);\n",
       "        embed_document(root);\n",
       "      } else if (document.readyState == \"complete\") {\n",
       "        attempts++;\n",
       "        if (attempts > 200) {\n",
       "          clearInterval(timer);\n",
       "          console.log(\"Bokeh: ERROR: Unable to run BokehJS code because BokehJS library is missing\");\n",
       "        }\n",
       "      }\n",
       "    }, 25, root)\n",
       "  }\n",
       "})(window);</script>"
      ],
      "text/plain": [
       ":DynamicMap   [metro_area]\n",
       "   :Curve   [date]   (value)"
      ]
     },
     "execution_count": 161,
     "metadata": {
      "application/vnd.holoviews_exec.v0+json": {
       "id": "3448"
      }
     },
     "output_type": "execute_result"
    }
   ],
   "source": [
    "# Creating an interactive chart for Sales increase by City\n",
    "combined_sales.hvplot.line(x=\"date\", y=\"value\", title=\"Increase in Sale Price\", groupby=\"metro_area\", yformatter=\"%d\")"
   ]
  },
  {
   "cell_type": "markdown",
   "id": "6dfc534c",
   "metadata": {},
   "source": [
    "From the table above it can be assumed that home prices stayed realtively flat or even saw decrease in home values as the country recovered from the real estate crash of 2008.  Home prices have steadily increased since 2012 and have seen a significant increase in home values in the last 18 monhts. It seems taht the jump in homes values the last 18 months can be attributed to the pandemic.  It will be interesting to see if there will be a market correction in the next 18 months."
   ]
  },
  {
   "cell_type": "markdown",
   "id": "5c8694fb",
   "metadata": {},
   "source": [
    "## Annualize monthly Sales "
   ]
  },
  {
   "cell_type": "code",
   "execution_count": 169,
   "id": "e99fa886",
   "metadata": {},
   "outputs": [
    {
     "data": {
      "text/html": [
       "<div>\n",
       "<style scoped>\n",
       "    .dataframe tbody tr th:only-of-type {\n",
       "        vertical-align: middle;\n",
       "    }\n",
       "\n",
       "    .dataframe tbody tr th {\n",
       "        vertical-align: top;\n",
       "    }\n",
       "\n",
       "    .dataframe thead th {\n",
       "        text-align: right;\n",
       "    }\n",
       "</style>\n",
       "<table border=\"1\" class=\"dataframe\">\n",
       "  <thead>\n",
       "    <tr style=\"text-align: right;\">\n",
       "      <th></th>\n",
       "      <th>metro_area</th>\n",
       "      <th>value</th>\n",
       "    </tr>\n",
       "    <tr>\n",
       "      <th>date</th>\n",
       "      <th></th>\n",
       "      <th></th>\n",
       "    </tr>\n",
       "  </thead>\n",
       "  <tbody>\n",
       "    <tr>\n",
       "      <th>2017-12-31</th>\n",
       "      <td>Chicago</td>\n",
       "      <td>225833</td>\n",
       "    </tr>\n",
       "    <tr>\n",
       "      <th>2018-12-31</th>\n",
       "      <td>Chicago</td>\n",
       "      <td>231319</td>\n",
       "    </tr>\n",
       "    <tr>\n",
       "      <th>2019-12-31</th>\n",
       "      <td>Chicago</td>\n",
       "      <td>235167</td>\n",
       "    </tr>\n",
       "    <tr>\n",
       "      <th>2020-12-31</th>\n",
       "      <td>Chicago</td>\n",
       "      <td>253658</td>\n",
       "    </tr>\n",
       "    <tr>\n",
       "      <th>2021-12-31</th>\n",
       "      <td>Chicago</td>\n",
       "      <td>275333</td>\n",
       "    </tr>\n",
       "    <tr>\n",
       "      <th>2017-12-31</th>\n",
       "      <td>Denver</td>\n",
       "      <td>382546</td>\n",
       "    </tr>\n",
       "    <tr>\n",
       "      <th>2018-12-31</th>\n",
       "      <td>Denver</td>\n",
       "      <td>414036</td>\n",
       "    </tr>\n",
       "    <tr>\n",
       "      <th>2019-12-31</th>\n",
       "      <td>Denver</td>\n",
       "      <td>420843</td>\n",
       "    </tr>\n",
       "  </tbody>\n",
       "</table>\n",
       "</div>"
      ],
      "text/plain": [
       "           metro_area   value\n",
       "date                         \n",
       "2017-12-31    Chicago  225833\n",
       "2018-12-31    Chicago  231319\n",
       "2019-12-31    Chicago  235167\n",
       "2020-12-31    Chicago  253658\n",
       "2021-12-31    Chicago  275333\n",
       "2017-12-31     Denver  382546\n",
       "2018-12-31     Denver  414036\n",
       "2019-12-31     Denver  420843"
      ]
     },
     "execution_count": 169,
     "metadata": {},
     "output_type": "execute_result"
    }
   ],
   "source": [
    "combined_sales_2 = combined_sales\n",
    "combined_sales_2 = combined_sales_2.set_index(\"date\")\n",
    "annual_2 = combined_sales_2.groupby(\"metro_area\").resample(\"A\").mean()\n",
    "annual_2 = annual_2.reset_index().set_index(\"date\")\n",
    "annual_2 = annual_2.loc[\"2017-12-31\":\"2021-12-31\"]\n",
    "annual_2.head(8)"
   ]
  },
  {
   "cell_type": "code",
   "execution_count": 170,
   "id": "9d1fa6db",
   "metadata": {},
   "outputs": [
    {
     "data": {},
     "metadata": {},
     "output_type": "display_data"
    },
    {
     "data": {
      "application/vnd.holoviews_exec.v0+json": "",
      "text/html": [
       "<div id='4063'>\n",
       "\n",
       "\n",
       "\n",
       "\n",
       "\n",
       "  <div class=\"bk-root\" id=\"613dddcd-e9d6-447e-9f75-2aac08fbac0e\" data-root-id=\"4063\"></div>\n",
       "</div>\n",
       "<script type=\"application/javascript\">(function(root) {\n",
       "  function embed_document(root) {\n",
       "    var docs_json = {\"bc2eb05e-5ab6-4345-80e4-2156931dce28\":{\"defs\":[{\"extends\":null,\"module\":null,\"name\":\"ReactiveHTML1\",\"overrides\":[],\"properties\":[]},{\"extends\":null,\"module\":null,\"name\":\"FlexBox1\",\"overrides\":[],\"properties\":[{\"default\":\"flex-start\",\"kind\":null,\"name\":\"align_content\"},{\"default\":\"flex-start\",\"kind\":null,\"name\":\"align_items\"},{\"default\":\"row\",\"kind\":null,\"name\":\"flex_direction\"},{\"default\":\"wrap\",\"kind\":null,\"name\":\"flex_wrap\"},{\"default\":\"flex-start\",\"kind\":null,\"name\":\"justify_content\"}]},{\"extends\":null,\"module\":null,\"name\":\"TemplateActions1\",\"overrides\":[],\"properties\":[{\"default\":0,\"kind\":null,\"name\":\"open_modal\"},{\"default\":0,\"kind\":null,\"name\":\"close_modal\"}]},{\"extends\":null,\"module\":null,\"name\":\"MaterialTemplateActions1\",\"overrides\":[],\"properties\":[{\"default\":0,\"kind\":null,\"name\":\"open_modal\"},{\"default\":0,\"kind\":null,\"name\":\"close_modal\"}]}],\"roots\":{\"references\":[{\"attributes\":{},\"id\":\"4073\",\"type\":\"LinearScale\"},{\"attributes\":{\"callback\":null,\"formatters\":{\"@{date}\":\"datetime\"},\"renderers\":[{\"id\":\"4104\"}],\"tags\":[\"hv_created\"],\"tooltips\":[[\"date\",\"@{date}{%F %T}\"],[\"value\",\"@{value}\"]]},\"id\":\"4067\",\"type\":\"HoverTool\"},{\"attributes\":{\"margin\":[5,5,5,5],\"name\":\"VSpacer08049\",\"sizing_mode\":\"stretch_height\"},\"id\":\"4166\",\"type\":\"Spacer\"},{\"attributes\":{\"num_minor_ticks\":5,\"tickers\":[{\"id\":\"4129\"},{\"id\":\"4130\"},{\"id\":\"4131\"},{\"id\":\"4132\"},{\"id\":\"4133\"},{\"id\":\"4134\"},{\"id\":\"4135\"},{\"id\":\"4136\"},{\"id\":\"4137\"},{\"id\":\"4138\"},{\"id\":\"4139\"},{\"id\":\"4140\"}]},\"id\":\"4078\",\"type\":\"DatetimeTicker\"},{\"attributes\":{\"axis\":{\"id\":\"4077\"},\"grid_line_color\":null,\"ticker\":null},\"id\":\"4080\",\"type\":\"Grid\"},{\"attributes\":{\"margin\":[5,5,5,5],\"name\":\"HSpacer08052\",\"sizing_mode\":\"stretch_width\"},\"id\":\"4064\",\"type\":\"Spacer\"},{\"attributes\":{\"axis_label\":\"value\",\"formatter\":{\"id\":\"4107\"},\"major_label_policy\":{\"id\":\"4112\"},\"ticker\":{\"id\":\"4082\"}},\"id\":\"4081\",\"type\":\"LinearAxis\"},{\"attributes\":{\"children\":[{\"id\":\"4168\"}],\"css_classes\":[\"panel-widget-box\"],\"margin\":[5,5,5,5],\"name\":\"WidgetBox08044\"},\"id\":\"4167\",\"type\":\"Column\"},{\"attributes\":{\"base\":24,\"mantissas\":[1,2,4,6,8,12],\"max_interval\":43200000.0,\"min_interval\":3600000.0,\"num_minor_ticks\":0},\"id\":\"4131\",\"type\":\"AdaptiveTicker\"},{\"attributes\":{},\"id\":\"4075\",\"type\":\"LinearScale\"},{\"attributes\":{\"below\":[{\"id\":\"4077\"}],\"center\":[{\"id\":\"4080\"},{\"id\":\"4084\"}],\"height\":300,\"left\":[{\"id\":\"4081\"}],\"margin\":[5,5,5,5],\"min_border_bottom\":10,\"min_border_left\":10,\"min_border_right\":10,\"min_border_top\":10,\"renderers\":[{\"id\":\"4104\"}],\"sizing_mode\":\"fixed\",\"title\":{\"id\":\"4069\"},\"toolbar\":{\"id\":\"4091\"},\"width\":700,\"x_range\":{\"id\":\"4065\"},\"x_scale\":{\"id\":\"4073\"},\"y_range\":{\"id\":\"4066\"},\"y_scale\":{\"id\":\"4075\"}},\"id\":\"4068\",\"subtype\":\"Figure\",\"type\":\"Plot\"},{\"attributes\":{\"days\":[1,8,15,22]},\"id\":\"4134\",\"type\":\"DaysTicker\"},{\"attributes\":{\"active_multi\":null,\"tools\":[{\"id\":\"4067\"},{\"id\":\"4085\"},{\"id\":\"4086\"},{\"id\":\"4087\"},{\"id\":\"4088\"},{\"id\":\"4089\"}]},\"id\":\"4091\",\"type\":\"Toolbar\"},{\"attributes\":{\"days\":[1,15]},\"id\":\"4135\",\"type\":\"DaysTicker\"},{\"attributes\":{\"days\":[1,4,7,10,13,16,19,22,25,28]},\"id\":\"4133\",\"type\":\"DaysTicker\"},{\"attributes\":{},\"id\":\"4082\",\"type\":\"BasicTicker\"},{\"attributes\":{\"children\":[{\"id\":\"4064\"},{\"id\":\"4068\"},{\"id\":\"4164\"},{\"id\":\"4165\"}],\"margin\":[0,0,0,0],\"name\":\"Row08043\"},\"id\":\"4063\",\"type\":\"Row\"},{\"attributes\":{\"end\":280283.3333333333,\"reset_end\":280283.3333333333,\"reset_start\":220883.33333333334,\"start\":220883.33333333334,\"tags\":[[[\"value\",\"value\",null]]]},\"id\":\"4066\",\"type\":\"Range1d\"},{\"attributes\":{\"axis\":{\"id\":\"4081\"},\"dimension\":1,\"grid_line_color\":null,\"ticker\":null},\"id\":\"4084\",\"type\":\"Grid\"},{\"attributes\":{},\"id\":\"4110\",\"type\":\"DatetimeTickFormatter\"},{\"attributes\":{\"line_color\":\"#30a2da\",\"line_width\":2,\"x\":{\"field\":\"date\"},\"y\":{\"field\":\"value\"}},\"id\":\"4101\",\"type\":\"Line\"},{\"attributes\":{\"months\":[0,1,2,3,4,5,6,7,8,9,10,11]},\"id\":\"4136\",\"type\":\"MonthsTicker\"},{\"attributes\":{\"margin\":[5,5,5,5],\"name\":\"HSpacer08053\",\"sizing_mode\":\"stretch_width\"},\"id\":\"4164\",\"type\":\"Spacer\"},{\"attributes\":{\"bottom_units\":\"screen\",\"fill_alpha\":0.5,\"fill_color\":\"lightgrey\",\"left_units\":\"screen\",\"level\":\"overlay\",\"line_alpha\":1.0,\"line_color\":\"black\",\"line_dash\":[4,4],\"line_width\":2,\"right_units\":\"screen\",\"syncable\":false,\"top_units\":\"screen\"},\"id\":\"4090\",\"type\":\"BoxAnnotation\"},{\"attributes\":{\"days\":[1,2,3,4,5,6,7,8,9,10,11,12,13,14,15,16,17,18,19,20,21,22,23,24,25,26,27,28,29,30,31]},\"id\":\"4132\",\"type\":\"DaysTicker\"},{\"attributes\":{\"margin\":[20,20,20,20],\"min_width\":250,\"options\":[\"Chicago\",\"Denver\",\"Des Moines\",\"Kansas City\",\"Madison\",\"Minneapolis\",\"Oklahoma City\",\"Toledo\"],\"title\":\"metro_area\",\"value\":\"Chicago\",\"width\":250},\"id\":\"4168\",\"type\":\"Select\"},{\"attributes\":{},\"id\":\"4099\",\"type\":\"Selection\"},{\"attributes\":{\"months\":[0,2,4,6,8,10]},\"id\":\"4137\",\"type\":\"MonthsTicker\"},{\"attributes\":{\"margin\":[5,5,5,5],\"name\":\"VSpacer08050\",\"sizing_mode\":\"stretch_height\"},\"id\":\"4169\",\"type\":\"Spacer\"},{\"attributes\":{},\"id\":\"4112\",\"type\":\"AllLabels\"},{\"attributes\":{\"text\":\"Increase in Sale Price\",\"text_color\":\"black\",\"text_font_size\":\"12pt\"},\"id\":\"4069\",\"type\":\"Title\"},{\"attributes\":{\"line_alpha\":0.2,\"line_color\":\"#30a2da\",\"line_width\":2,\"x\":{\"field\":\"date\"},\"y\":{\"field\":\"value\"}},\"id\":\"4103\",\"type\":\"Line\"},{\"attributes\":{\"months\":[0,4,8]},\"id\":\"4138\",\"type\":\"MonthsTicker\"},{\"attributes\":{\"line_alpha\":0.1,\"line_color\":\"#30a2da\",\"line_width\":2,\"x\":{\"field\":\"date\"},\"y\":{\"field\":\"value\"}},\"id\":\"4102\",\"type\":\"Line\"},{\"attributes\":{},\"id\":\"4085\",\"type\":\"SaveTool\"},{\"attributes\":{\"format\":\"%d\"},\"id\":\"4107\",\"type\":\"PrintfTickFormatter\"},{\"attributes\":{\"months\":[0,6]},\"id\":\"4139\",\"type\":\"MonthsTicker\"},{\"attributes\":{},\"id\":\"4086\",\"type\":\"PanTool\"},{\"attributes\":{},\"id\":\"4089\",\"type\":\"ResetTool\"},{\"attributes\":{\"client_comm_id\":\"d97ea9ef88504c648e0e56476c3402d8\",\"comm_id\":\"ae632858fcc04d7fb4881529a2427d15\",\"plot_id\":\"4063\"},\"id\":\"4233\",\"type\":\"panel.models.comm_manager.CommManager\"},{\"attributes\":{},\"id\":\"4087\",\"type\":\"WheelZoomTool\"},{\"attributes\":{\"end\":1640908800000.0,\"reset_end\":1640908800000.0,\"reset_start\":1514678400000.0,\"start\":1514678400000.0,\"tags\":[[[\"date\",\"date\",null]]]},\"id\":\"4065\",\"type\":\"Range1d\"},{\"attributes\":{\"source\":{\"id\":\"4098\"}},\"id\":\"4105\",\"type\":\"CDSView\"},{\"attributes\":{\"overlay\":{\"id\":\"4090\"}},\"id\":\"4088\",\"type\":\"BoxZoomTool\"},{\"attributes\":{},\"id\":\"4109\",\"type\":\"AllLabels\"},{\"attributes\":{\"line_color\":\"#30a2da\",\"line_width\":2,\"x\":{\"field\":\"date\"},\"y\":{\"field\":\"value\"}},\"id\":\"4106\",\"type\":\"Line\"},{\"attributes\":{},\"id\":\"4140\",\"type\":\"YearsTicker\"},{\"attributes\":{\"mantissas\":[1,2,5],\"max_interval\":500.0,\"num_minor_ticks\":0},\"id\":\"4129\",\"type\":\"AdaptiveTicker\"},{\"attributes\":{},\"id\":\"4141\",\"type\":\"UnionRenderers\"},{\"attributes\":{\"axis_label\":\"date\",\"formatter\":{\"id\":\"4110\"},\"major_label_policy\":{\"id\":\"4109\"},\"ticker\":{\"id\":\"4078\"}},\"id\":\"4077\",\"type\":\"DatetimeAxis\"},{\"attributes\":{\"data_source\":{\"id\":\"4098\"},\"glyph\":{\"id\":\"4101\"},\"hover_glyph\":null,\"muted_glyph\":{\"id\":\"4103\"},\"nonselection_glyph\":{\"id\":\"4102\"},\"selection_glyph\":{\"id\":\"4106\"},\"view\":{\"id\":\"4105\"}},\"id\":\"4104\",\"type\":\"GlyphRenderer\"},{\"attributes\":{\"data\":{\"date\":{\"__ndarray__\":\"AABA450KdkIAAAD2GIB2QgAAwAiU9XZCAABAgWFrd0IAAACU3OB3Qg==\",\"dtype\":\"float64\",\"order\":\"little\",\"shape\":[5]},\"value\":{\"__ndarray__\":\"q6qqqkqRC0FVVVVVuzwMQVVVVVX1tAxBq6qqqtL2DkFVVVVVFc4QQQ==\",\"dtype\":\"float64\",\"order\":\"little\",\"shape\":[5]}},\"selected\":{\"id\":\"4099\"},\"selection_policy\":{\"id\":\"4141\"}},\"id\":\"4098\",\"type\":\"ColumnDataSource\"},{\"attributes\":{\"base\":60,\"mantissas\":[1,2,5,10,15,20,30],\"max_interval\":1800000.0,\"min_interval\":1000.0,\"num_minor_ticks\":0},\"id\":\"4130\",\"type\":\"AdaptiveTicker\"},{\"attributes\":{\"children\":[{\"id\":\"4166\"},{\"id\":\"4167\"},{\"id\":\"4169\"}],\"margin\":[0,0,0,0],\"name\":\"Column08051\"},\"id\":\"4165\",\"type\":\"Column\"}],\"root_ids\":[\"4063\",\"4233\"]},\"title\":\"Bokeh Application\",\"version\":\"2.3.2\"}};\n",
       "    var render_items = [{\"docid\":\"bc2eb05e-5ab6-4345-80e4-2156931dce28\",\"root_ids\":[\"4063\"],\"roots\":{\"4063\":\"613dddcd-e9d6-447e-9f75-2aac08fbac0e\"}}];\n",
       "    root.Bokeh.embed.embed_items_notebook(docs_json, render_items);\n",
       "  }\n",
       "  if (root.Bokeh !== undefined && root.Bokeh.Panel !== undefined && ( root['Plotly'] !== undefined)) {\n",
       "    embed_document(root);\n",
       "  } else {\n",
       "    var attempts = 0;\n",
       "    var timer = setInterval(function(root) {\n",
       "      if (root.Bokeh !== undefined && root.Bokeh.Panel !== undefined && (root['Plotly'] !== undefined)) {\n",
       "        clearInterval(timer);\n",
       "        embed_document(root);\n",
       "      } else if (document.readyState == \"complete\") {\n",
       "        attempts++;\n",
       "        if (attempts > 200) {\n",
       "          clearInterval(timer);\n",
       "          console.log(\"Bokeh: ERROR: Unable to run BokehJS code because BokehJS library is missing\");\n",
       "        }\n",
       "      }\n",
       "    }, 25, root)\n",
       "  }\n",
       "})(window);</script>"
      ],
      "text/plain": [
       ":DynamicMap   [metro_area]\n",
       "   :Curve   [date]   (value)"
      ]
     },
     "execution_count": 170,
     "metadata": {
      "application/vnd.holoviews_exec.v0+json": {
       "id": "4063"
      }
     },
     "output_type": "execute_result"
    }
   ],
   "source": [
    "# Creating an interactive chart for Sales increase by City\n",
    "annual_2.hvplot.line(x=\"date\", y=\"value\", title=\"Increase in Sale Price\", groupby=\"metro_area\", yformatter=\"%d\")"
   ]
  },
  {
   "cell_type": "markdown",
   "id": "ab28b8de",
   "metadata": {},
   "source": [
    "Year over year each city has seen a signifcant increase in home prices since the beginning of 2020"
   ]
  },
  {
   "cell_type": "code",
   "execution_count": 171,
   "id": "96448fa3",
   "metadata": {},
   "outputs": [
    {
     "data": {
      "text/html": [
       "<div>\n",
       "<style scoped>\n",
       "    .dataframe tbody tr th:only-of-type {\n",
       "        vertical-align: middle;\n",
       "    }\n",
       "\n",
       "    .dataframe tbody tr th {\n",
       "        vertical-align: top;\n",
       "    }\n",
       "\n",
       "    .dataframe thead th {\n",
       "        text-align: right;\n",
       "    }\n",
       "</style>\n",
       "<table border=\"1\" class=\"dataframe\">\n",
       "  <thead>\n",
       "    <tr style=\"text-align: right;\">\n",
       "      <th></th>\n",
       "      <th>metro_area</th>\n",
       "      <th>avg_income_household</th>\n",
       "    </tr>\n",
       "    <tr>\n",
       "      <th>date</th>\n",
       "      <th></th>\n",
       "      <th></th>\n",
       "    </tr>\n",
       "  </thead>\n",
       "  <tbody>\n",
       "    <tr>\n",
       "      <th>2021-12-31</th>\n",
       "      <td>Chicago</td>\n",
       "      <td>93200</td>\n",
       "    </tr>\n",
       "    <tr>\n",
       "      <th>2020-12-31</th>\n",
       "      <td>Chicago</td>\n",
       "      <td>91000</td>\n",
       "    </tr>\n",
       "    <tr>\n",
       "      <th>2019-12-31</th>\n",
       "      <td>Chicago</td>\n",
       "      <td>89100</td>\n",
       "    </tr>\n",
       "    <tr>\n",
       "      <th>2018-12-31</th>\n",
       "      <td>Chicago</td>\n",
       "      <td>84600</td>\n",
       "    </tr>\n",
       "    <tr>\n",
       "      <th>2017-12-31</th>\n",
       "      <td>Chicago</td>\n",
       "      <td>79000</td>\n",
       "    </tr>\n",
       "    <tr>\n",
       "      <th>2021-12-31</th>\n",
       "      <td>Denver</td>\n",
       "      <td>104800</td>\n",
       "    </tr>\n",
       "    <tr>\n",
       "      <th>2020-12-31</th>\n",
       "      <td>Denver</td>\n",
       "      <td>100000</td>\n",
       "    </tr>\n",
       "    <tr>\n",
       "      <th>2019-12-31</th>\n",
       "      <td>Denver</td>\n",
       "      <td>92800</td>\n",
       "    </tr>\n",
       "  </tbody>\n",
       "</table>\n",
       "</div>"
      ],
      "text/plain": [
       "           metro_area  avg_income_household\n",
       "date                                       \n",
       "2021-12-31    Chicago                 93200\n",
       "2020-12-31    Chicago                 91000\n",
       "2019-12-31    Chicago                 89100\n",
       "2018-12-31    Chicago                 84600\n",
       "2017-12-31    Chicago                 79000\n",
       "2021-12-31     Denver                104800\n",
       "2020-12-31     Denver                100000\n",
       "2019-12-31     Denver                 92800"
      ]
     },
     "execution_count": 171,
     "metadata": {},
     "output_type": "execute_result"
    }
   ],
   "source": [
    "# Reading Median Family Income csv\n",
    "median_family_income_csv = \"Data/Median_Family_Income_edit.csv\"\n",
    "family_income = pd.read_csv(median_family_income_csv, infer_datetime_format=True, parse_dates=True, index_col=\"date\")\n",
    "family_income.head(8)"
   ]
  },
  {
   "cell_type": "code",
   "execution_count": 172,
   "id": "1f28f246",
   "metadata": {},
   "outputs": [
    {
     "data": {
      "text/html": [
       "<div>\n",
       "<style scoped>\n",
       "    .dataframe tbody tr th:only-of-type {\n",
       "        vertical-align: middle;\n",
       "    }\n",
       "\n",
       "    .dataframe tbody tr th {\n",
       "        vertical-align: top;\n",
       "    }\n",
       "\n",
       "    .dataframe thead th {\n",
       "        text-align: right;\n",
       "    }\n",
       "</style>\n",
       "<table border=\"1\" class=\"dataframe\">\n",
       "  <thead>\n",
       "    <tr style=\"text-align: right;\">\n",
       "      <th></th>\n",
       "      <th>metro_area</th>\n",
       "      <th>value</th>\n",
       "      <th>avg_income_household</th>\n",
       "    </tr>\n",
       "    <tr>\n",
       "      <th>date</th>\n",
       "      <th></th>\n",
       "      <th></th>\n",
       "      <th></th>\n",
       "    </tr>\n",
       "  </thead>\n",
       "  <tbody>\n",
       "    <tr>\n",
       "      <th>2017-12-31</th>\n",
       "      <td>Chicago</td>\n",
       "      <td>225833</td>\n",
       "      <td>79000</td>\n",
       "    </tr>\n",
       "    <tr>\n",
       "      <th>2017-12-31</th>\n",
       "      <td>Denver</td>\n",
       "      <td>382546</td>\n",
       "      <td>83900</td>\n",
       "    </tr>\n",
       "    <tr>\n",
       "      <th>2017-12-31</th>\n",
       "      <td>Des Moines</td>\n",
       "      <td>195571</td>\n",
       "      <td>82200</td>\n",
       "    </tr>\n",
       "    <tr>\n",
       "      <th>2017-12-31</th>\n",
       "      <td>Kansas City</td>\n",
       "      <td>198150</td>\n",
       "      <td>74800</td>\n",
       "    </tr>\n",
       "    <tr>\n",
       "      <th>2017-12-31</th>\n",
       "      <td>Madison</td>\n",
       "      <td>244862</td>\n",
       "      <td>85200</td>\n",
       "    </tr>\n",
       "    <tr>\n",
       "      <th>2017-12-31</th>\n",
       "      <td>Minneapolis</td>\n",
       "      <td>244582</td>\n",
       "      <td>90400</td>\n",
       "    </tr>\n",
       "    <tr>\n",
       "      <th>2017-12-31</th>\n",
       "      <td>Oklahoma City</td>\n",
       "      <td>166688</td>\n",
       "      <td>67300</td>\n",
       "    </tr>\n",
       "    <tr>\n",
       "      <th>2017-12-31</th>\n",
       "      <td>Toledo</td>\n",
       "      <td>118300</td>\n",
       "      <td>61500</td>\n",
       "    </tr>\n",
       "  </tbody>\n",
       "</table>\n",
       "</div>"
      ],
      "text/plain": [
       "               metro_area   value  avg_income_household\n",
       "date                                                   \n",
       "2017-12-31        Chicago  225833                 79000\n",
       "2017-12-31         Denver  382546                 83900\n",
       "2017-12-31     Des Moines  195571                 82200\n",
       "2017-12-31    Kansas City  198150                 74800\n",
       "2017-12-31        Madison  244862                 85200\n",
       "2017-12-31    Minneapolis  244582                 90400\n",
       "2017-12-31  Oklahoma City  166688                 67300\n",
       "2017-12-31         Toledo  118300                 61500"
      ]
     },
     "execution_count": 172,
     "metadata": {},
     "output_type": "execute_result"
    }
   ],
   "source": [
    "#combine dataframes\n",
    "joined = pd.merge(annual_2, family_income, how=\"inner\", on=[\"date\", \"metro_area\"], sort=True, copy=True, indicator=False, validate=None)\n",
    "joined.head(8)"
   ]
  },
  {
   "cell_type": "code",
   "execution_count": 173,
   "id": "0708bff3",
   "metadata": {},
   "outputs": [
    {
     "data": {
      "text/html": [
       "<div>\n",
       "<style scoped>\n",
       "    .dataframe tbody tr th:only-of-type {\n",
       "        vertical-align: middle;\n",
       "    }\n",
       "\n",
       "    .dataframe tbody tr th {\n",
       "        vertical-align: top;\n",
       "    }\n",
       "\n",
       "    .dataframe thead th {\n",
       "        text-align: right;\n",
       "    }\n",
       "</style>\n",
       "<table border=\"1\" class=\"dataframe\">\n",
       "  <thead>\n",
       "    <tr style=\"text-align: right;\">\n",
       "      <th></th>\n",
       "      <th>metro_area</th>\n",
       "      <th>value</th>\n",
       "      <th>avg_income_household</th>\n",
       "      <th>Price_Income</th>\n",
       "    </tr>\n",
       "    <tr>\n",
       "      <th>date</th>\n",
       "      <th></th>\n",
       "      <th></th>\n",
       "      <th></th>\n",
       "      <th></th>\n",
       "    </tr>\n",
       "  </thead>\n",
       "  <tbody>\n",
       "    <tr>\n",
       "      <th>2017-12-31</th>\n",
       "      <td>Chicago</td>\n",
       "      <td>225833</td>\n",
       "      <td>79000</td>\n",
       "      <td>3</td>\n",
       "    </tr>\n",
       "    <tr>\n",
       "      <th>2017-12-31</th>\n",
       "      <td>Denver</td>\n",
       "      <td>382546</td>\n",
       "      <td>83900</td>\n",
       "      <td>5</td>\n",
       "    </tr>\n",
       "    <tr>\n",
       "      <th>2017-12-31</th>\n",
       "      <td>Des Moines</td>\n",
       "      <td>195571</td>\n",
       "      <td>82200</td>\n",
       "      <td>2</td>\n",
       "    </tr>\n",
       "    <tr>\n",
       "      <th>2017-12-31</th>\n",
       "      <td>Kansas City</td>\n",
       "      <td>198150</td>\n",
       "      <td>74800</td>\n",
       "      <td>3</td>\n",
       "    </tr>\n",
       "    <tr>\n",
       "      <th>2017-12-31</th>\n",
       "      <td>Madison</td>\n",
       "      <td>244862</td>\n",
       "      <td>85200</td>\n",
       "      <td>3</td>\n",
       "    </tr>\n",
       "    <tr>\n",
       "      <th>2017-12-31</th>\n",
       "      <td>Minneapolis</td>\n",
       "      <td>244582</td>\n",
       "      <td>90400</td>\n",
       "      <td>3</td>\n",
       "    </tr>\n",
       "    <tr>\n",
       "      <th>2017-12-31</th>\n",
       "      <td>Oklahoma City</td>\n",
       "      <td>166688</td>\n",
       "      <td>67300</td>\n",
       "      <td>2</td>\n",
       "    </tr>\n",
       "    <tr>\n",
       "      <th>2017-12-31</th>\n",
       "      <td>Toledo</td>\n",
       "      <td>118300</td>\n",
       "      <td>61500</td>\n",
       "      <td>2</td>\n",
       "    </tr>\n",
       "  </tbody>\n",
       "</table>\n",
       "</div>"
      ],
      "text/plain": [
       "               metro_area   value  avg_income_household  Price_Income\n",
       "date                                                                 \n",
       "2017-12-31        Chicago  225833                 79000             3\n",
       "2017-12-31         Denver  382546                 83900             5\n",
       "2017-12-31     Des Moines  195571                 82200             2\n",
       "2017-12-31    Kansas City  198150                 74800             3\n",
       "2017-12-31        Madison  244862                 85200             3\n",
       "2017-12-31    Minneapolis  244582                 90400             3\n",
       "2017-12-31  Oklahoma City  166688                 67300             2\n",
       "2017-12-31         Toledo  118300                 61500             2"
      ]
     },
     "execution_count": 173,
     "metadata": {},
     "output_type": "execute_result"
    }
   ],
   "source": [
    "# compute the price to income ratio\n",
    "joined['Price_Income'] = (joined['value']/joined['avg_income_household'])\n",
    "# joined['Price_Income'] = joined.Price_Income.round(decimals=2)\n",
    "\n",
    "# joined['Price_Income'] = joined['Price_Income'].apply(str)\n",
    "# joined['Price_Income'] = joined['Price_Income'].round(decimal=3)\n",
    "# joined['Price_Income'] = joined['Price_Income'].str[:2] + '.' + joined['Price_Income'].str[2:].astype(float)\n",
    "joined.head(8)"
   ]
  },
  {
   "cell_type": "code",
   "execution_count": 175,
   "id": "13da6042",
   "metadata": {},
   "outputs": [
    {
     "data": {},
     "metadata": {},
     "output_type": "display_data"
    },
    {
     "data": {
      "application/vnd.holoviews_exec.v0+json": "",
      "text/html": [
       "<div id='4504'>\n",
       "\n",
       "\n",
       "\n",
       "\n",
       "\n",
       "  <div class=\"bk-root\" id=\"695e06d5-54a9-433e-a73c-7758033dfbaf\" data-root-id=\"4504\"></div>\n",
       "</div>\n",
       "<script type=\"application/javascript\">(function(root) {\n",
       "  function embed_document(root) {\n",
       "    var docs_json = {\"3d54da8c-ccf7-45c7-b84c-852258dc113f\":{\"defs\":[{\"extends\":null,\"module\":null,\"name\":\"ReactiveHTML1\",\"overrides\":[],\"properties\":[]},{\"extends\":null,\"module\":null,\"name\":\"FlexBox1\",\"overrides\":[],\"properties\":[{\"default\":\"flex-start\",\"kind\":null,\"name\":\"align_content\"},{\"default\":\"flex-start\",\"kind\":null,\"name\":\"align_items\"},{\"default\":\"row\",\"kind\":null,\"name\":\"flex_direction\"},{\"default\":\"wrap\",\"kind\":null,\"name\":\"flex_wrap\"},{\"default\":\"flex-start\",\"kind\":null,\"name\":\"justify_content\"}]},{\"extends\":null,\"module\":null,\"name\":\"TemplateActions1\",\"overrides\":[],\"properties\":[{\"default\":0,\"kind\":null,\"name\":\"open_modal\"},{\"default\":0,\"kind\":null,\"name\":\"close_modal\"}]},{\"extends\":null,\"module\":null,\"name\":\"MaterialTemplateActions1\",\"overrides\":[],\"properties\":[{\"default\":0,\"kind\":null,\"name\":\"open_modal\"},{\"default\":0,\"kind\":null,\"name\":\"close_modal\"}]}],\"roots\":{\"references\":[{\"attributes\":{\"client_comm_id\":\"6f8921f54bc54ee3a1a6308d8f80df94\",\"comm_id\":\"461aa6c495aa476f8ceae13377ef00ef\",\"plot_id\":\"4504\"},\"id\":\"4618\",\"type\":\"panel.models.comm_manager.CommManager\"},{\"attributes\":{},\"id\":\"4527\",\"type\":\"WheelZoomTool\"},{\"attributes\":{},\"id\":\"4552\",\"type\":\"BasicTickFormatter\"},{\"attributes\":{\"margin\":[20,0,0,20],\"name\":\"\",\"style\":{\"white-space\":\"nowrap\"},\"text\":\"date: <b>2017-12-31 00:00:00</b>\",\"width\":250},\"id\":\"4584\",\"type\":\"Div\"},{\"attributes\":{\"data\":{\"Price_Income\":{\"__ndarray__\":\"E8vUx4PeBkDRj5Jj+TwSQI8ODzOcCANAMdRfjkgxBUCrH3iI5P0GQL9PEOz7pAVAXYwvo3PQA0DHjm/s+Mb+Pw==\",\"dtype\":\"float64\",\"order\":\"little\",\"shape\":[8]},\"metro_area\":[\"Chicago\",\"Denver\",\"Des Moines\",\"Kansas City\",\"Madison\",\"Minneapolis\",\"Oklahoma City\",\"Toledo\"]},\"selected\":{\"id\":\"4539\"},\"selection_policy\":{\"id\":\"4567\"}},\"id\":\"4538\",\"type\":\"ColumnDataSource\"},{\"attributes\":{\"callback\":null,\"renderers\":[{\"id\":\"4544\"}],\"tags\":[\"hv_created\"],\"tooltips\":[[\"metro_area\",\"@{metro_area}\"],[\"Price_Income\",\"@{Price_Income}\"]]},\"id\":\"4508\",\"type\":\"HoverTool\"},{\"attributes\":{},\"id\":\"4522\",\"type\":\"BasicTicker\"},{\"attributes\":{},\"id\":\"4529\",\"type\":\"ResetTool\"},{\"attributes\":{\"end\":4,\"js_property_callbacks\":{\"change:value\":[{\"id\":\"4597\"}]},\"margin\":[0,20,20,20],\"min_width\":250,\"show_value\":false,\"start\":0,\"tooltips\":false,\"value\":0,\"width\":250},\"id\":\"4585\",\"type\":\"Slider\"},{\"attributes\":{\"source\":{\"id\":\"4538\"}},\"id\":\"4545\",\"type\":\"CDSView\"},{\"attributes\":{\"children\":[{\"id\":\"4583\"}],\"css_classes\":[\"panel-widget-box\"],\"margin\":[5,5,5,5],\"name\":\"WidgetBox08571\"},\"id\":\"4582\",\"type\":\"Column\"},{\"attributes\":{\"below\":[{\"id\":\"4518\"}],\"center\":[{\"id\":\"4520\"},{\"id\":\"4524\"}],\"height\":300,\"left\":[{\"id\":\"4521\"}],\"margin\":[5,5,5,5],\"min_border_bottom\":10,\"min_border_left\":10,\"min_border_right\":10,\"min_border_top\":10,\"renderers\":[{\"id\":\"4544\"}],\"sizing_mode\":\"fixed\",\"title\":{\"id\":\"4510\"},\"toolbar\":{\"id\":\"4531\"},\"width\":700,\"x_range\":{\"id\":\"4506\"},\"x_scale\":{\"id\":\"4514\"},\"y_range\":{\"id\":\"4507\"},\"y_scale\":{\"id\":\"4516\"}},\"id\":\"4509\",\"subtype\":\"Figure\",\"type\":\"Plot\"},{\"attributes\":{\"active_multi\":null,\"tools\":[{\"id\":\"4508\"},{\"id\":\"4525\"},{\"id\":\"4526\"},{\"id\":\"4527\"},{\"id\":\"4528\"},{\"id\":\"4529\"}]},\"id\":\"4531\",\"type\":\"Toolbar\"},{\"attributes\":{\"margin\":[5,5,5,5],\"name\":\"VSpacer08583\",\"sizing_mode\":\"stretch_height\"},\"id\":\"4581\",\"type\":\"Spacer\"},{\"attributes\":{},\"id\":\"4516\",\"type\":\"LinearScale\"},{\"attributes\":{},\"id\":\"4551\",\"type\":\"AllLabels\"},{\"attributes\":{\"end\":4.823141879124393,\"reset_end\":4.823141879124393,\"reset_start\":1.6599804500130817,\"start\":1.6599804500130817,\"tags\":[[[\"Price_Income\",\"Price_Income\",null]]]},\"id\":\"4507\",\"type\":\"Range1d\"},{\"attributes\":{},\"id\":\"4525\",\"type\":\"SaveTool\"},{\"attributes\":{\"axis\":{\"id\":\"4521\"},\"dimension\":1,\"grid_line_color\":null,\"ticker\":null},\"id\":\"4524\",\"type\":\"Grid\"},{\"attributes\":{},\"id\":\"4519\",\"type\":\"CategoricalTicker\"},{\"attributes\":{\"axis\":{\"id\":\"4518\"},\"grid_line_color\":null,\"ticker\":null},\"id\":\"4520\",\"type\":\"Grid\"},{\"attributes\":{},\"id\":\"4526\",\"type\":\"PanTool\"},{\"attributes\":{},\"id\":\"4514\",\"type\":\"CategoricalScale\"},{\"attributes\":{\"data_source\":{\"id\":\"4538\"},\"glyph\":{\"id\":\"4541\"},\"hover_glyph\":null,\"muted_glyph\":{\"id\":\"4543\"},\"nonselection_glyph\":{\"id\":\"4542\"},\"selection_glyph\":{\"id\":\"4546\"},\"view\":{\"id\":\"4545\"}},\"id\":\"4544\",\"type\":\"GlyphRenderer\"},{\"attributes\":{\"children\":[{\"id\":\"4584\"},{\"id\":\"4585\"}],\"margin\":[0,0,0,0],\"min_width\":290,\"name\":\"Column08580\",\"width\":290},\"id\":\"4583\",\"type\":\"Column\"},{\"attributes\":{\"margin\":[5,5,5,5],\"name\":\"HSpacer08587\",\"sizing_mode\":\"stretch_width\"},\"id\":\"4579\",\"type\":\"Spacer\"},{\"attributes\":{},\"id\":\"4549\",\"type\":\"CategoricalTickFormatter\"},{\"attributes\":{},\"id\":\"4567\",\"type\":\"UnionRenderers\"},{\"attributes\":{\"factors\":[\"Chicago\",\"Denver\",\"Des Moines\",\"Kansas City\",\"Madison\",\"Minneapolis\",\"Oklahoma City\",\"Toledo\"],\"tags\":[[[\"metro_area\",\"metro_area\",null]]]},\"id\":\"4506\",\"type\":\"FactorRange\"},{\"attributes\":{},\"id\":\"4539\",\"type\":\"Selection\"},{\"attributes\":{\"axis_label\":\"metro_area\",\"formatter\":{\"id\":\"4549\"},\"major_label_policy\":{\"id\":\"4548\"},\"ticker\":{\"id\":\"4519\"}},\"id\":\"4518\",\"type\":\"CategoricalAxis\"},{\"attributes\":{\"text\":\"Price to Income per year\",\"text_color\":\"black\",\"text_font_size\":\"12pt\"},\"id\":\"4510\",\"type\":\"Title\"},{\"attributes\":{},\"id\":\"4548\",\"type\":\"AllLabels\"},{\"attributes\":{\"fill_alpha\":{\"value\":0.2},\"fill_color\":{\"value\":\"#30a2da\"},\"line_alpha\":{\"value\":0.2},\"line_color\":{\"value\":\"#30a2da\"},\"size\":{\"value\":5.477225575051661},\"x\":{\"field\":\"metro_area\"},\"y\":{\"field\":\"Price_Income\"}},\"id\":\"4543\",\"type\":\"Scatter\"},{\"attributes\":{\"margin\":[5,5,5,5],\"name\":\"VSpacer08584\",\"sizing_mode\":\"stretch_height\"},\"id\":\"4586\",\"type\":\"Spacer\"},{\"attributes\":{\"fill_alpha\":{\"value\":0.1},\"fill_color\":{\"value\":\"#30a2da\"},\"line_alpha\":{\"value\":0.1},\"line_color\":{\"value\":\"#30a2da\"},\"size\":{\"value\":5.477225575051661},\"x\":{\"field\":\"metro_area\"},\"y\":{\"field\":\"Price_Income\"}},\"id\":\"4542\",\"type\":\"Scatter\"},{\"attributes\":{\"axis_label\":\"Price_Income\",\"formatter\":{\"id\":\"4552\"},\"major_label_policy\":{\"id\":\"4551\"},\"ticker\":{\"id\":\"4522\"}},\"id\":\"4521\",\"type\":\"LinearAxis\"},{\"attributes\":{\"overlay\":{\"id\":\"4530\"}},\"id\":\"4528\",\"type\":\"BoxZoomTool\"},{\"attributes\":{\"fill_color\":{\"value\":\"#30a2da\"},\"line_color\":{\"value\":\"#30a2da\"},\"size\":{\"value\":5.477225575051661},\"x\":{\"field\":\"metro_area\"},\"y\":{\"field\":\"Price_Income\"}},\"id\":\"4541\",\"type\":\"Scatter\"},{\"attributes\":{\"children\":[{\"id\":\"4581\"},{\"id\":\"4582\"},{\"id\":\"4586\"}],\"margin\":[0,0,0,0],\"name\":\"Column08585\"},\"id\":\"4580\",\"type\":\"Column\"},{\"attributes\":{\"angle\":{\"value\":0.0},\"fill_alpha\":{\"value\":1.0},\"fill_color\":{\"value\":\"#30a2da\"},\"hatch_alpha\":{\"value\":1.0},\"hatch_color\":{\"value\":\"black\"},\"hatch_scale\":{\"value\":12.0},\"hatch_weight\":{\"value\":1.0},\"line_alpha\":{\"value\":1.0},\"line_cap\":{\"value\":\"butt\"},\"line_color\":{\"value\":\"#30a2da\"},\"line_dash\":{\"value\":[]},\"line_dash_offset\":{\"value\":0},\"line_join\":{\"value\":\"bevel\"},\"line_width\":{\"value\":1},\"marker\":{\"value\":\"circle\"},\"size\":{\"value\":5.477225575051661},\"x\":{\"field\":\"metro_area\"},\"y\":{\"field\":\"Price_Income\"}},\"id\":\"4546\",\"type\":\"Scatter\"},{\"attributes\":{\"margin\":[5,5,5,5],\"name\":\"HSpacer08586\",\"sizing_mode\":\"stretch_width\"},\"id\":\"4505\",\"type\":\"Spacer\"},{\"attributes\":{\"bottom_units\":\"screen\",\"fill_alpha\":0.5,\"fill_color\":\"lightgrey\",\"left_units\":\"screen\",\"level\":\"overlay\",\"line_alpha\":1.0,\"line_color\":\"black\",\"line_dash\":[4,4],\"line_width\":2,\"right_units\":\"screen\",\"syncable\":false,\"top_units\":\"screen\"},\"id\":\"4530\",\"type\":\"BoxAnnotation\"},{\"attributes\":{\"args\":{\"bidirectional\":false,\"properties\":{},\"source\":{\"id\":\"4585\"},\"target\":{\"id\":\"4584\"}},\"code\":\"try { \\n    var labels = ['date: <b>2017-12-31 00:00:00</b>', 'date: <b>2018-12-31 00:00:00</b>', 'date: <b>2019-12-31 00:00:00</b>', 'date: <b>2020-12-31 00:00:00</b>', 'date: <b>2021-12-31 00:00:00</b>']\\n    target.text = labels[source.value]\\n     } catch(err) { console.log(err) }\",\"tags\":[1826283259336]},\"id\":\"4597\",\"type\":\"CustomJS\"},{\"attributes\":{\"children\":[{\"id\":\"4505\"},{\"id\":\"4509\"},{\"id\":\"4579\"},{\"id\":\"4580\"}],\"margin\":[0,0,0,0],\"name\":\"Row08570\"},\"id\":\"4504\",\"type\":\"Row\"}],\"root_ids\":[\"4504\",\"4618\"]},\"title\":\"Bokeh Application\",\"version\":\"2.3.2\"}};\n",
       "    var render_items = [{\"docid\":\"3d54da8c-ccf7-45c7-b84c-852258dc113f\",\"root_ids\":[\"4504\"],\"roots\":{\"4504\":\"695e06d5-54a9-433e-a73c-7758033dfbaf\"}}];\n",
       "    root.Bokeh.embed.embed_items_notebook(docs_json, render_items);\n",
       "  }\n",
       "  if (root.Bokeh !== undefined && root.Bokeh.Panel !== undefined && ( root['Plotly'] !== undefined)) {\n",
       "    embed_document(root);\n",
       "  } else {\n",
       "    var attempts = 0;\n",
       "    var timer = setInterval(function(root) {\n",
       "      if (root.Bokeh !== undefined && root.Bokeh.Panel !== undefined && (root['Plotly'] !== undefined)) {\n",
       "        clearInterval(timer);\n",
       "        embed_document(root);\n",
       "      } else if (document.readyState == \"complete\") {\n",
       "        attempts++;\n",
       "        if (attempts > 200) {\n",
       "          clearInterval(timer);\n",
       "          console.log(\"Bokeh: ERROR: Unable to run BokehJS code because BokehJS library is missing\");\n",
       "        }\n",
       "      }\n",
       "    }, 25, root)\n",
       "  }\n",
       "})(window);</script>"
      ],
      "text/plain": [
       ":DynamicMap   [date]\n",
       "   :Scatter   [metro_area]   (Price_Income)"
      ]
     },
     "execution_count": 175,
     "metadata": {
      "application/vnd.holoviews_exec.v0+json": {
       "id": "4504"
      }
     },
     "output_type": "execute_result"
    }
   ],
   "source": [
    "joined.hvplot.scatter(x=\"metro_area\", y=\"Price_Income\", title=\"Price to Income per year\", groupby=\"date\")"
   ]
  },
  {
   "cell_type": "code",
   "execution_count": null,
   "id": "342ce623",
   "metadata": {},
   "outputs": [],
   "source": []
  }
 ],
 "metadata": {
  "kernelspec": {
   "display_name": "Python 3",
   "language": "python",
   "name": "python3"
  },
  "language_info": {
   "codemirror_mode": {
    "name": "ipython",
    "version": 3
   },
   "file_extension": ".py",
   "mimetype": "text/x-python",
   "name": "python",
   "nbconvert_exporter": "python",
   "pygments_lexer": "ipython3",
   "version": "3.7.10"
  }
 },
 "nbformat": 4,
 "nbformat_minor": 5
}
